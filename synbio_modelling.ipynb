{
  "nbformat": 4,
  "nbformat_minor": 0,
  "metadata": {
    "colab": {
      "name": "synbio_modelling.ipynb",
      "provenance": [],
      "collapsed_sections": [],
      "toc_visible": true
    },
    "kernelspec": {
      "name": "python3",
      "display_name": "Python 3"
    }
  },
  "cells": [
    {
      "cell_type": "markdown",
      "metadata": {
        "id": "MHSk4PiGfFKt",
        "colab_type": "text"
      },
      "source": [
        "# 1) Getting started\n"
      ]
    },
    {
      "cell_type": "markdown",
      "metadata": {
        "id": "cyEG5dQofJhe",
        "colab_type": "text"
      },
      "source": [
        "You can install required packages and dependencies with either apt-get or pip. \n",
        "The cobrapy package will come with *Salmonella* and *E. coli* models, as well as an *E. coli* textbook core metabolism model. We are going to load the textbook model, \"ecoli\" or \"salmonella\" would also be valid arguements."
      ]
    },
    {
      "cell_type": "markdown",
      "metadata": {
        "id": "Lur1JPsSieJ1",
        "colab_type": "text"
      },
      "source": [
        "\n",
        "\n",
        "```\n",
        "# This is formatted as code\n",
        "```\n",
        "\n",
        "## 1.1) Install dependencies and load cobrapy"
      ]
    },
    {
      "cell_type": "code",
      "metadata": {
        "id": "uFRvF05aePoz",
        "colab_type": "code",
        "colab": {}
      },
      "source": [
        "!pip install -q cobra"
      ],
      "execution_count": 0,
      "outputs": []
    },
    {
      "cell_type": "code",
      "metadata": {
        "id": "77FOJl9heF9b",
        "colab_type": "code",
        "colab": {}
      },
      "source": [
        "from __future__ import print_function\n",
        "\n",
        "import cobra\n",
        "import cobra.test\n",
        "\n",
        "model = cobra.test.create_test_model(\"textbook\")"
      ],
      "execution_count": 0,
      "outputs": []
    },
    {
      "cell_type": "markdown",
      "metadata": {
        "id": "NF9JZdcKiXuV",
        "colab_type": "text"
      },
      "source": [
        "## 1.2) Inspect the model"
      ]
    },
    {
      "cell_type": "markdown",
      "metadata": {
        "id": "DcQ_OT_5gGJb",
        "colab_type": "text"
      },
      "source": [
        "Now let's have a first glance at the model.\n",
        "\n"
      ]
    },
    {
      "cell_type": "code",
      "metadata": {
        "id": "-xOk6EMigykB",
        "colab_type": "code",
        "colab": {}
      },
      "source": [
        "model"
      ],
      "execution_count": 0,
      "outputs": []
    },
    {
      "cell_type": "markdown",
      "metadata": {
        "id": "uO5J-olLjAAs",
        "colab_type": "text"
      },
      "source": [
        "The reactions, metabolites, and genes attributes of the cobrapy model are a special type of list called a `cobra.DictList`, and each one is made up of `cobra.Reaction`, `cobra.Metabolite` and `cobra.Gene` objects respectively."
      ]
    },
    {
      "cell_type": "code",
      "metadata": {
        "id": "KbrJoXHPhJvp",
        "colab_type": "code",
        "colab": {}
      },
      "source": [
        "model.reactions"
      ],
      "execution_count": 0,
      "outputs": []
    },
    {
      "cell_type": "code",
      "metadata": {
        "id": "4vMomZzxjG8t",
        "colab_type": "code",
        "colab": {}
      },
      "source": [
        "model.metabolites"
      ],
      "execution_count": 0,
      "outputs": []
    },
    {
      "cell_type": "code",
      "metadata": {
        "id": "DzmUZL-pjHqF",
        "colab_type": "code",
        "colab": {}
      },
      "source": [
        "model.genes"
      ],
      "execution_count": 0,
      "outputs": []
    },
    {
      "cell_type": "markdown",
      "metadata": {
        "id": "swQpSKaEjOe0",
        "colab_type": "text"
      },
      "source": [
        "Just like a regular list, objects in the `DictList` can be retrieved by index. For example, to get the 17th reactions in the model (at index 16 because of 0-indexing):"
      ]
    },
    {
      "cell_type": "code",
      "metadata": {
        "id": "U8aQ8N81jV1s",
        "colab_type": "code",
        "colab": {}
      },
      "source": [
        "model.reactions[16]"
      ],
      "execution_count": 0,
      "outputs": []
    },
    {
      "cell_type": "markdown",
      "metadata": {
        "id": "PwmUBhahxlve",
        "colab_type": "text"
      },
      "source": [
        "##1.3) Reactions, Metabolites and Genes"
      ]
    },
    {
      "cell_type": "markdown",
      "metadata": {
        "id": "bL3kWWOHx6RO",
        "colab_type": "text"
      },
      "source": [
        "### 1.3.1) Reactions"
      ]
    },
    {
      "cell_type": "markdown",
      "metadata": {
        "id": "-Dk2G_llyAdR",
        "colab_type": "text"
      },
      "source": [
        "We will consider the reaction glucose 6-phosphate isomerase, which interconverts glucose 6-phosphate and fructose 6-phosphate. The reaction id for this reaction in our test model is PGI."
      ]
    },
    {
      "cell_type": "code",
      "metadata": {
        "id": "n7fyS1h7yCQ5",
        "colab_type": "code",
        "colab": {}
      },
      "source": [
        "pgi = model.reactions.get_by_id(\"PGI\")\n",
        "pgi"
      ],
      "execution_count": 0,
      "outputs": []
    },
    {
      "cell_type": "markdown",
      "metadata": {
        "id": "RphqJfeGyDv4",
        "colab_type": "text"
      },
      "source": [
        "We can view the full name and reaction catalyzed as strings"
      ]
    },
    {
      "cell_type": "code",
      "metadata": {
        "id": "s9YWPqIcyFo5",
        "colab_type": "code",
        "colab": {}
      },
      "source": [
        "print(pgi.name)\n",
        "print(pgi.reaction)"
      ],
      "execution_count": 0,
      "outputs": []
    },
    {
      "cell_type": "markdown",
      "metadata": {
        "id": "A-tIFkhnyHoA",
        "colab_type": "text"
      },
      "source": [
        "We can also view reaction upper and lower bounds. Because the pgi.lower_bound < 0, and pgi.upper_bound > 0, pgi is reversible."
      ]
    },
    {
      "cell_type": "code",
      "metadata": {
        "id": "_6kzBKhvyI7Z",
        "colab_type": "code",
        "colab": {}
      },
      "source": [
        "print(pgi.lower_bound, \"< pgi <\", pgi.upper_bound)\n",
        "print(pgi.reversibility)"
      ],
      "execution_count": 0,
      "outputs": []
    },
    {
      "cell_type": "markdown",
      "metadata": {
        "id": "ZFoxvm30yKWy",
        "colab_type": "text"
      },
      "source": [
        "We can also ensure the reaction is mass balanced. This function will return elements which violate mass balance. If it comes back empty, then the reaction is mass balanced."
      ]
    },
    {
      "cell_type": "code",
      "metadata": {
        "id": "1cteOrVnyMXA",
        "colab_type": "code",
        "colab": {}
      },
      "source": [
        "pgi.check_mass_balance()"
      ],
      "execution_count": 0,
      "outputs": []
    },
    {
      "cell_type": "markdown",
      "metadata": {
        "id": "3AGvxdzYMTk1",
        "colab_type": "text"
      },
      "source": [
        "In order to add a metabolite, we pass in a `dict` with the metabolite object and its coefficient"
      ]
    },
    {
      "cell_type": "code",
      "metadata": {
        "id": "S8iQv44dMTk2",
        "colab_type": "code",
        "colab": {}
      },
      "source": [
        "pgi.add_metabolites({model.metabolites.get_by_id(\"h_c\"): -1})\n",
        "pgi.reaction"
      ],
      "execution_count": 0,
      "outputs": []
    },
    {
      "cell_type": "markdown",
      "metadata": {
        "id": "qnsUDMSAMTk5",
        "colab_type": "text"
      },
      "source": [
        "The reaction is no longer mass balanced"
      ]
    },
    {
      "cell_type": "code",
      "metadata": {
        "id": "epPwdICSMTk6",
        "colab_type": "code",
        "colab": {}
      },
      "source": [
        "pgi.check_mass_balance()"
      ],
      "execution_count": 0,
      "outputs": []
    },
    {
      "cell_type": "markdown",
      "metadata": {
        "id": "Q8HKx5K3MTlA",
        "colab_type": "text"
      },
      "source": [
        "We can remove the metabolite, and the reaction will be balanced once again."
      ]
    },
    {
      "cell_type": "code",
      "metadata": {
        "id": "uTI1hgv3MTlB",
        "colab_type": "code",
        "colab": {}
      },
      "source": [
        "pgi.subtract_metabolites({model.metabolites.get_by_id(\"h_c\"): -1})\n",
        "print(pgi.reaction)\n",
        "print(pgi.check_mass_balance())"
      ],
      "execution_count": 0,
      "outputs": []
    },
    {
      "cell_type": "markdown",
      "metadata": {
        "id": "zlvUyMeHMTlD",
        "colab_type": "text"
      },
      "source": [
        "It is also possible to build the reaction from a string. However, care must be taken when doing this to ensure reaction id's match those in the model. The direction of the arrow is also used to update the upper and lower bounds."
      ]
    },
    {
      "cell_type": "code",
      "metadata": {
        "id": "of-Aeu8lMTlE",
        "colab_type": "code",
        "colab": {}
      },
      "source": [
        "pgi.reaction = \"g6p_c --> f6p_c + h_c + green_eggs + ham\""
      ],
      "execution_count": 0,
      "outputs": []
    },
    {
      "cell_type": "code",
      "metadata": {
        "id": "qHj4tqTXMTlI",
        "colab_type": "code",
        "colab": {}
      },
      "source": [
        "pgi.reaction"
      ],
      "execution_count": 0,
      "outputs": []
    },
    {
      "cell_type": "code",
      "metadata": {
        "id": "jYoppL1BMTlL",
        "colab_type": "code",
        "colab": {}
      },
      "source": [
        "pgi.reaction = \"g6p_c <=> f6p_c\"\n",
        "pgi.reaction"
      ],
      "execution_count": 0,
      "outputs": []
    },
    {
      "cell_type": "markdown",
      "metadata": {
        "id": "U5GMG6pyycJC",
        "colab_type": "text"
      },
      "source": [
        "###1.3.2) Metabolites"
      ]
    },
    {
      "cell_type": "markdown",
      "metadata": {
        "id": "oT6hwlIdMTlQ",
        "colab_type": "text"
      },
      "source": [
        "We will consider cytosolic atp as our metabolite, which has the id `\"atp_c\"` in our test model."
      ]
    },
    {
      "cell_type": "code",
      "metadata": {
        "id": "iULDYfhaMTlR",
        "colab_type": "code",
        "colab": {}
      },
      "source": [
        "atp = model.metabolites.get_by_id(\"atp_c\")\n",
        "atp"
      ],
      "execution_count": 0,
      "outputs": []
    },
    {
      "cell_type": "markdown",
      "metadata": {
        "id": "-2H9FrUtMTlV",
        "colab_type": "text"
      },
      "source": [
        "We can print out the metabolite name and compartment (cytosol in this case) directly as string."
      ]
    },
    {
      "cell_type": "code",
      "metadata": {
        "id": "wNVgummBMTlW",
        "colab_type": "code",
        "colab": {}
      },
      "source": [
        "print(atp.name)\n",
        "print(atp.compartment)"
      ],
      "execution_count": 0,
      "outputs": []
    },
    {
      "cell_type": "markdown",
      "metadata": {
        "id": "7kSVDeThMTla",
        "colab_type": "text"
      },
      "source": [
        "We can see that ATP is a charged molecule in our model."
      ]
    },
    {
      "cell_type": "code",
      "metadata": {
        "id": "IYKYB_tbMTla",
        "colab_type": "code",
        "colab": {}
      },
      "source": [
        "atp.charge"
      ],
      "execution_count": 0,
      "outputs": []
    },
    {
      "cell_type": "markdown",
      "metadata": {
        "id": "D7RFUevKMTld",
        "colab_type": "text"
      },
      "source": [
        "We can see the chemical formula for the metabolite as well."
      ]
    },
    {
      "cell_type": "code",
      "metadata": {
        "id": "BsdnBIzfMTle",
        "colab_type": "code",
        "colab": {}
      },
      "source": [
        "print(atp.formula)"
      ],
      "execution_count": 0,
      "outputs": []
    },
    {
      "cell_type": "markdown",
      "metadata": {
        "id": "NVCOcOLPMTli",
        "colab_type": "text"
      },
      "source": [
        "The reactions attribute gives a `frozenset` of all reactions using the given metabolite. We can use this to count the number of reactions which use atp."
      ]
    },
    {
      "cell_type": "code",
      "metadata": {
        "id": "gighV1VRMTlj",
        "colab_type": "code",
        "colab": {}
      },
      "source": [
        "len(atp.reactions)"
      ],
      "execution_count": 0,
      "outputs": []
    },
    {
      "cell_type": "markdown",
      "metadata": {
        "id": "hoPu0prKMTlm",
        "colab_type": "text"
      },
      "source": [
        "A metabolite like glucose 6-phosphate will participate in fewer reactions."
      ]
    },
    {
      "cell_type": "code",
      "metadata": {
        "id": "akI14jqtMTln",
        "colab_type": "code",
        "colab": {}
      },
      "source": [
        "model.metabolites.get_by_id(\"g6p_c\").reactions"
      ],
      "execution_count": 0,
      "outputs": []
    },
    {
      "cell_type": "markdown",
      "metadata": {
        "id": "Pt4NoaJMylEk",
        "colab_type": "text"
      },
      "source": [
        "###1.3.3) Genes"
      ]
    },
    {
      "cell_type": "markdown",
      "metadata": {
        "id": "WLTu6o-gMTls",
        "colab_type": "text"
      },
      "source": [
        "The `gene_reaction_rule` is a boolean representation of the gene requirements for this reaction to be active as described in [Schellenberger et al 2011 Nature Protocols 6(9):1290-307](http://dx.doi.org/doi:10.1038/nprot.2011.308).\n",
        "\n",
        "The GPR is stored as the gene_reaction_rule for a Reaction object as a string."
      ]
    },
    {
      "cell_type": "code",
      "metadata": {
        "id": "Ht2Rc22lMTlt",
        "colab_type": "code",
        "colab": {}
      },
      "source": [
        "gpr = pgi.gene_reaction_rule\n",
        "gpr"
      ],
      "execution_count": 0,
      "outputs": []
    },
    {
      "cell_type": "markdown",
      "metadata": {
        "id": "GoVPOWRqMTlw",
        "colab_type": "text"
      },
      "source": [
        "Corresponding gene objects also exist. These objects are tracked by the reactions itself, as well as by the model"
      ]
    },
    {
      "cell_type": "code",
      "metadata": {
        "id": "P8yU-wt4MTl0",
        "colab_type": "code",
        "colab": {}
      },
      "source": [
        "pgi.genes"
      ],
      "execution_count": 0,
      "outputs": []
    },
    {
      "cell_type": "code",
      "metadata": {
        "id": "NcgosYxIMTl3",
        "colab_type": "code",
        "colab": {}
      },
      "source": [
        "pgi_gene = model.genes.get_by_id(\"b4025\")\n",
        "pgi_gene"
      ],
      "execution_count": 0,
      "outputs": []
    },
    {
      "cell_type": "markdown",
      "metadata": {
        "id": "5I8z78jjMTl5",
        "colab_type": "text"
      },
      "source": [
        "Each gene keeps track of the reactions it catalyzes"
      ]
    },
    {
      "cell_type": "code",
      "metadata": {
        "id": "Fcl65157MTl6",
        "colab_type": "code",
        "colab": {}
      },
      "source": [
        "pgi_gene.reactions"
      ],
      "execution_count": 0,
      "outputs": []
    },
    {
      "cell_type": "markdown",
      "metadata": {
        "id": "QtTlnwfaMTl7",
        "colab_type": "text"
      },
      "source": [
        "Altering the gene_reaction_rule will create new gene objects if necessary and update all relationships."
      ]
    },
    {
      "cell_type": "code",
      "metadata": {
        "id": "URtc5wXwMTl8",
        "colab_type": "code",
        "colab": {}
      },
      "source": [
        "pgi.gene_reaction_rule = \"(spam or eggs)\"\n",
        "pgi.genes"
      ],
      "execution_count": 0,
      "outputs": []
    },
    {
      "cell_type": "code",
      "metadata": {
        "id": "BGKxlOhxMTl9",
        "colab_type": "code",
        "colab": {}
      },
      "source": [
        "pgi_gene.reactions"
      ],
      "execution_count": 0,
      "outputs": []
    },
    {
      "cell_type": "markdown",
      "metadata": {
        "id": "fRM-M3F0MTl_",
        "colab_type": "text"
      },
      "source": [
        "Newly created genes are also added to the model"
      ]
    },
    {
      "cell_type": "code",
      "metadata": {
        "id": "mmca4BtSMTmA",
        "colab_type": "code",
        "colab": {}
      },
      "source": [
        "model.genes.get_by_id(\"spam\")"
      ],
      "execution_count": 0,
      "outputs": []
    },
    {
      "cell_type": "markdown",
      "metadata": {
        "id": "smmcD5z0MTmE",
        "colab_type": "text"
      },
      "source": [
        "The undelete_model_genes can be used to reset a gene deletion"
      ]
    },
    {
      "cell_type": "markdown",
      "metadata": {
        "id": "O1JttbwWzB3h",
        "colab_type": "text"
      },
      "source": [
        "#2) Building a model"
      ]
    },
    {
      "cell_type": "markdown",
      "metadata": {
        "deletable": true,
        "editable": true,
        "id": "ZtwpcWbEwlPd",
        "colab_type": "text"
      },
      "source": [
        "This simple example demonstrates how to create a model, create a reaction, and then add the reaction to the model.\n",
        "\n",
        "We'll use the '3OAS140' reaction from the STM_1.0 model:\n",
        "\n",
        "1.0 malACP[c] + 1.0 h[c] + 1.0 ddcaACP[c] $\\rightarrow$ 1.0 co2[c] + 1.0 ACP[c] + 1.0 3omrsACP[c]\n",
        "\n",
        "First, create the model and reaction."
      ]
    },
    {
      "cell_type": "code",
      "metadata": {
        "deletable": true,
        "editable": true,
        "id": "CCPJt9iwwlPl",
        "colab_type": "code",
        "colab": {}
      },
      "source": [
        "from cobra import Model, Reaction, Metabolite\n",
        "# Best practise: SBML compliant IDs\n",
        "model = Model('example_model')\n",
        "\n",
        "reaction = Reaction('3OAS140')\n",
        "reaction.name = '3 oxoacyl acyl carrier protein synthase n C140 '\n",
        "reaction.subsystem = 'Cell Envelope Biosynthesis'\n",
        "reaction.lower_bound = 0.  # This is the default\n",
        "reaction.upper_bound = 1000.  # This is the default"
      ],
      "execution_count": 0,
      "outputs": []
    },
    {
      "cell_type": "markdown",
      "metadata": {
        "deletable": true,
        "editable": true,
        "id": "Yj8-zsAXwlPp",
        "colab_type": "text"
      },
      "source": [
        "We need to create metabolites as well. If we were using an existing model, we could use `Model.get_by_id` to get the appropriate Metabolite objects instead."
      ]
    },
    {
      "cell_type": "code",
      "metadata": {
        "deletable": true,
        "editable": true,
        "id": "SSiTH6AwwlPp",
        "colab_type": "code",
        "colab": {}
      },
      "source": [
        "ACP_c = Metabolite(\n",
        "    'ACP_c',\n",
        "    formula='C11H21N2O7PRS',\n",
        "    name='acyl-carrier-protein',\n",
        "    compartment='c')\n",
        "omrsACP_c = Metabolite(\n",
        "    '3omrsACP_c',\n",
        "    formula='C25H45N2O9PRS',\n",
        "    name='3-Oxotetradecanoyl-acyl-carrier-protein',\n",
        "    compartment='c')\n",
        "co2_c = Metabolite('co2_c', formula='CO2', name='CO2', compartment='c')\n",
        "malACP_c = Metabolite(\n",
        "    'malACP_c',\n",
        "    formula='C14H22N2O10PRS',\n",
        "    name='Malonyl-acyl-carrier-protein',\n",
        "    compartment='c')\n",
        "h_c = Metabolite('h_c', formula='H', name='H', compartment='c')\n",
        "ddcaACP_c = Metabolite(\n",
        "    'ddcaACP_c',\n",
        "    formula='C23H43N2O8PRS',\n",
        "    name='Dodecanoyl-ACP-n-C120ACP',\n",
        "    compartment='c')"
      ],
      "execution_count": 0,
      "outputs": []
    },
    {
      "cell_type": "markdown",
      "metadata": {
        "deletable": true,
        "editable": true,
        "id": "c9yBaqqCwlPs",
        "colab_type": "text"
      },
      "source": [
        "Adding metabolites to a reaction requires using a dictionary of the metabolites and their stoichiometric coefficients. A group of metabolites can be added all at once, or they can be added one at a time."
      ]
    },
    {
      "cell_type": "code",
      "metadata": {
        "deletable": true,
        "editable": true,
        "id": "zoTFcaX7wlPs",
        "colab_type": "code",
        "colab": {}
      },
      "source": [
        "reaction.add_metabolites({\n",
        "    malACP_c: -1.0,\n",
        "    h_c: -1.0,\n",
        "    ddcaACP_c: -1.0,\n",
        "    co2_c: 1.0,\n",
        "    ACP_c: 1.0,\n",
        "    omrsACP_c: 1.0\n",
        "})\n",
        "\n",
        "reaction.reaction  # This gives a string representation of the reaction"
      ],
      "execution_count": 0,
      "outputs": []
    },
    {
      "cell_type": "markdown",
      "metadata": {
        "deletable": true,
        "editable": true,
        "id": "YM1enBFBwlPx",
        "colab_type": "text"
      },
      "source": [
        "The gene_reaction_rule is a boolean representation of the gene requirements for this reaction to be active as described in [Schellenberger et al 2011 Nature Protocols 6(9):1290-307](http://dx.doi.org/doi:10.1038/nprot.2011.308). We will assign the gene reaction rule string, which will automatically create the corresponding gene objects."
      ]
    },
    {
      "cell_type": "code",
      "metadata": {
        "deletable": true,
        "editable": true,
        "id": "t35jgGp0wlPx",
        "colab_type": "code",
        "colab": {}
      },
      "source": [
        "reaction.gene_reaction_rule = '( STM2378 or STM1197 )'\n",
        "reaction.genes"
      ],
      "execution_count": 0,
      "outputs": []
    },
    {
      "cell_type": "markdown",
      "metadata": {
        "deletable": true,
        "editable": true,
        "id": "HlSum54awlP0",
        "colab_type": "text"
      },
      "source": [
        "At this point in time, the model is still empty"
      ]
    },
    {
      "cell_type": "code",
      "metadata": {
        "deletable": true,
        "editable": true,
        "id": "po-qJdkKwlP0",
        "colab_type": "code",
        "colab": {}
      },
      "source": [
        "print('%i reactions initially' % len(model.reactions))\n",
        "print('%i metabolites initially' % len(model.metabolites))\n",
        "print('%i genes initially' % len(model.genes))"
      ],
      "execution_count": 0,
      "outputs": []
    },
    {
      "cell_type": "markdown",
      "metadata": {
        "deletable": true,
        "editable": true,
        "id": "Vpp6z-1BwlP3",
        "colab_type": "text"
      },
      "source": [
        "We will add the reaction to the model, which will also add all associated metabolites and genes"
      ]
    },
    {
      "cell_type": "code",
      "metadata": {
        "deletable": true,
        "editable": true,
        "id": "jJgus8IowlP3",
        "colab_type": "code",
        "colab": {}
      },
      "source": [
        "model.add_reactions([reaction])\n",
        "\n",
        "# Now there are things in the model\n",
        "print('%i reaction' % len(model.reactions))\n",
        "print('%i metabolites' % len(model.metabolites))\n",
        "print('%i genes' % len(model.genes))"
      ],
      "execution_count": 0,
      "outputs": []
    },
    {
      "cell_type": "markdown",
      "metadata": {
        "deletable": true,
        "editable": true,
        "id": "_2AvqxG2wlP6",
        "colab_type": "text"
      },
      "source": [
        "We can iterate through the model objects to observe the contents"
      ]
    },
    {
      "cell_type": "code",
      "metadata": {
        "deletable": true,
        "editable": true,
        "id": "i5mSxLXRwlP6",
        "colab_type": "code",
        "colab": {}
      },
      "source": [
        "# Iterate through the the objects in the model\n",
        "print(\"Reactions\")\n",
        "print(\"---------\")\n",
        "for x in model.reactions:\n",
        "    print(\"%s : %s\" % (x.id, x.reaction))\n",
        "\n",
        "print(\"\")\n",
        "print(\"Metabolites\")\n",
        "print(\"-----------\")\n",
        "for x in model.metabolites:\n",
        "    print('%9s : %s' % (x.id, x.formula))\n",
        "\n",
        "print(\"\")\n",
        "print(\"Genes\")\n",
        "print(\"-----\")\n",
        "for x in model.genes:\n",
        "    associated_ids = (i.id for i in x.reactions)\n",
        "    print(\"%s is associated with reactions: %s\" %\n",
        "          (x.id, \"{\" + \", \".join(associated_ids) + \"}\"))"
      ],
      "execution_count": 0,
      "outputs": []
    },
    {
      "cell_type": "markdown",
      "metadata": {
        "deletable": true,
        "editable": true,
        "id": "GDXzXGEvwlP8",
        "colab_type": "text"
      },
      "source": [
        "Last we need to set the objective of the model. Here, we just want this to be the maximization of the flux in the single reaction we added and we do this by assigning the reaction's identifier to the `objective` property of the model."
      ]
    },
    {
      "cell_type": "code",
      "metadata": {
        "deletable": true,
        "editable": true,
        "id": "U-FTNQKSwlP8",
        "colab_type": "code",
        "colab": {}
      },
      "source": [
        "model.objective = '3OAS140'"
      ],
      "execution_count": 0,
      "outputs": []
    },
    {
      "cell_type": "markdown",
      "metadata": {
        "deletable": true,
        "editable": true,
        "id": "yFM6KRu2wlP-",
        "colab_type": "text"
      },
      "source": [
        "The created objective is a symbolic algebraic expression and we can examine it by printing it"
      ]
    },
    {
      "cell_type": "code",
      "metadata": {
        "deletable": true,
        "editable": true,
        "id": "65kzaAFawlP-",
        "colab_type": "code",
        "colab": {}
      },
      "source": [
        "print(model.objective.expression)\n",
        "print(model.objective.direction)"
      ],
      "execution_count": 0,
      "outputs": []
    },
    {
      "cell_type": "markdown",
      "metadata": {
        "deletable": true,
        "editable": true,
        "id": "0ytbPRx9wlQA",
        "colab_type": "text"
      },
      "source": [
        "which here shows that the solver will maximize the flux in the forward direction."
      ]
    },
    {
      "cell_type": "markdown",
      "metadata": {
        "id": "mAjL-9-sztR4",
        "colab_type": "text"
      },
      "source": [
        "#3) Simulating"
      ]
    },
    {
      "cell_type": "markdown",
      "metadata": {
        "id": "zo-Wjq5h4KIQ",
        "colab_type": "text"
      },
      "source": [
        "Simulations using flux balance analysis can be solved using `Model.optimize()`. This will maximize or minimize (maximizing is the default) flux through the objective reactions."
      ]
    },
    {
      "cell_type": "markdown",
      "metadata": {
        "id": "IG472fYO0Els",
        "colab_type": "text"
      },
      "source": [
        "##3.1) Running FBA\n"
      ]
    },
    {
      "cell_type": "markdown",
      "metadata": {
        "id": "ZMIBXccL5e0t",
        "colab_type": "text"
      },
      "source": [
        "Get the objective of a model"
      ]
    },
    {
      "cell_type": "code",
      "metadata": {
        "id": "LAEe1GZF1gNr",
        "colab_type": "code",
        "colab": {}
      },
      "source": [
        "model = cobra.test.create_test_model(\"textbook\")"
      ],
      "execution_count": 0,
      "outputs": []
    },
    {
      "cell_type": "code",
      "metadata": {
        "id": "sB1D-D4846-M",
        "colab_type": "code",
        "colab": {}
      },
      "source": [
        "print(model.objective)"
      ],
      "execution_count": 0,
      "outputs": []
    },
    {
      "cell_type": "code",
      "metadata": {
        "id": "z3pl-qUc5FS9",
        "colab_type": "code",
        "colab": {}
      },
      "source": [
        "biomass_rxn = model.reactions.get_by_id('Biomass_Ecoli_core')\n",
        "biomass_rxn"
      ],
      "execution_count": 0,
      "outputs": []
    },
    {
      "cell_type": "code",
      "metadata": {
        "id": "_6fQk_fQGPK6",
        "colab_type": "code",
        "colab": {}
      },
      "source": [
        "biomass_rxn.id = 'BIOMASS_Ecoli_core_w_GAM'"
      ],
      "execution_count": 0,
      "outputs": []
    },
    {
      "cell_type": "code",
      "metadata": {
        "id": "HNfBOjis4KIY",
        "colab_type": "code",
        "colab": {}
      },
      "source": [
        "solution = model.optimize()\n",
        "print(solution)"
      ],
      "execution_count": 0,
      "outputs": []
    },
    {
      "cell_type": "markdown",
      "metadata": {
        "id": "QfPUfeaY4KIc",
        "colab_type": "text"
      },
      "source": [
        "The Model.optimize() function will return a Solution object. A solution object has several attributes:\n",
        "\n",
        " - `objective_value`: the objective value\n",
        " - `status`: the status from the linear programming solver\n",
        " - `fluxes`: a pandas series with flux indexed by reaction identifier. The flux for a reaction variable is the difference of the primal values for the forward and reverse reaction variables. (More about [Pandas Series and Dataframes](https://pandas.pydata.org))\n",
        " - `shadow_prices`: a pandas series with shadow price indexed by the metabolite identifier."
      ]
    },
    {
      "cell_type": "markdown",
      "metadata": {
        "id": "YTwtadbC4KId",
        "colab_type": "text"
      },
      "source": [
        "For example, after the last call to `model.optimize()`, if the optimization succeeds it's status will be optimal. In case the model is infeasible an error is raised."
      ]
    },
    {
      "cell_type": "code",
      "metadata": {
        "id": "ESoJGN5Z4KIe",
        "colab_type": "code",
        "colab": {}
      },
      "source": [
        "solution.objective_value"
      ],
      "execution_count": 0,
      "outputs": []
    },
    {
      "cell_type": "markdown",
      "metadata": {
        "id": "UzyDSzoq5lKx",
        "colab_type": "text"
      },
      "source": [
        "Get flux distribution of the current solution:"
      ]
    },
    {
      "cell_type": "code",
      "metadata": {
        "id": "wNO1Tlu75dcd",
        "colab_type": "code",
        "colab": {}
      },
      "source": [
        "solution.fluxes"
      ],
      "execution_count": 0,
      "outputs": []
    },
    {
      "cell_type": "markdown",
      "metadata": {
        "id": "TDGa-klY4KIl",
        "colab_type": "text"
      },
      "source": [
        "###3.1.1) Analyzing FBA solutions"
      ]
    },
    {
      "cell_type": "markdown",
      "metadata": {
        "id": "HEIsWdMj4KIl",
        "colab_type": "text"
      },
      "source": [
        "Models solved using FBA can be further analyzed by using summary methods, which output printed text to give a quick representation of model behavior. Calling the summary method on the entire model displays information on the input and output behavior of the model, along with the optimized objective."
      ]
    },
    {
      "cell_type": "code",
      "metadata": {
        "id": "z-Gx5L_E4KIm",
        "colab_type": "code",
        "colab": {}
      },
      "source": [
        "model.summary()"
      ],
      "execution_count": 0,
      "outputs": []
    },
    {
      "cell_type": "markdown",
      "metadata": {
        "id": "5qzl9mtb4KIo",
        "colab_type": "text"
      },
      "source": [
        "In addition, the input-output behavior of individual metabolites can also be inspected using summary methods. For instance, the following commands can be used to examine the overall redox balance of the model"
      ]
    },
    {
      "cell_type": "code",
      "metadata": {
        "id": "UBHrMTer4KIo",
        "colab_type": "code",
        "colab": {}
      },
      "source": [
        "model.metabolites.nadh_c.summary()"
      ],
      "execution_count": 0,
      "outputs": []
    },
    {
      "cell_type": "markdown",
      "metadata": {
        "id": "X-cuV1jF4KIq",
        "colab_type": "text"
      },
      "source": [
        "Or to get a sense of the main energy production and consumption reactions"
      ]
    },
    {
      "cell_type": "code",
      "metadata": {
        "id": "JexdtdrP4KIq",
        "colab_type": "code",
        "colab": {}
      },
      "source": [
        "model.metabolites.atp_c.summary()"
      ],
      "execution_count": 0,
      "outputs": []
    },
    {
      "cell_type": "markdown",
      "metadata": {
        "id": "mmPe4exT6zPy",
        "colab_type": "text"
      },
      "source": [
        "###3.1.2) Visualizing FBA solutions with Escher Maps\n",
        "\n"
      ]
    },
    {
      "cell_type": "markdown",
      "metadata": {
        "id": "kUoWy5WyA2zI",
        "colab_type": "text"
      },
      "source": [
        "Create a directory for results and save flux solution in a json file."
      ]
    },
    {
      "cell_type": "code",
      "metadata": {
        "id": "AAo7r2Ha6ztT",
        "colab_type": "code",
        "colab": {}
      },
      "source": [
        "import os\n",
        "from google.colab import files\n",
        "\n",
        "directory = \"results\"\n",
        "if not os.path.exists(directory):\n",
        "    os.makedirs(directory)\n",
        "       \n",
        "solution.fluxes.to_json('results/flux_1.json')\n",
        "#files.download('results/flux_1.json')"
      ],
      "execution_count": 0,
      "outputs": []
    },
    {
      "cell_type": "markdown",
      "metadata": {
        "id": "eMT1IIpVC6bB",
        "colab_type": "text"
      },
      "source": [
        "To view the flux solution on a map:\n",
        "\n",
        "\n",
        "\n",
        "1.   Go to [Escher Maps](https://escher.github.io)\n",
        "2.   Choose *Escherichia Coli* as organism, *Core metabolism (e_coli_core)* as map, *e_coli_core* as model and *Viewer* as Tool\n",
        "3.   Press *Load map*\n",
        "4.  You will be redirected to the metabolic map of E.coli\n",
        "5. To map your flux solution, go to the *Menu > Data > Load reaction data* and choose the* json file*, you just downloaded\n",
        "6. Check the visualisation to your likings, go to *Menu > View > Settings*\n",
        "\n",
        "\n"
      ]
    },
    {
      "cell_type": "markdown",
      "metadata": {
        "id": "EZ15pUeM4KIs",
        "colab_type": "text"
      },
      "source": [
        "###3.1.3) Changing the Objectives"
      ]
    },
    {
      "cell_type": "markdown",
      "metadata": {
        "id": "M5i6bwub4KIs",
        "colab_type": "text"
      },
      "source": [
        "The objective function is determined from the objective_coefficient attribute of the objective reaction(s). Generally, a \"biomass\" function which describes the composition of metabolites which make up a cell is used."
      ]
    },
    {
      "cell_type": "code",
      "metadata": {
        "id": "NuI5Da2X4KIs",
        "colab_type": "code",
        "colab": {}
      },
      "source": [
        "biomass_rxn"
      ],
      "execution_count": 0,
      "outputs": []
    },
    {
      "cell_type": "markdown",
      "metadata": {
        "id": "p5AxXlLX4KIv",
        "colab_type": "text"
      },
      "source": [
        "The objective function can be changed by assigning Model.objective, which can be a reaction object (or just it's name), or a `dict` of `{Reaction: objective_coefficient}`."
      ]
    },
    {
      "cell_type": "code",
      "metadata": {
        "id": "ckwn4ZwnIADQ",
        "colab_type": "code",
        "colab": {}
      },
      "source": [
        "ATPM_rxn = model.reactions.get_by_id(\"ATPM\")\n",
        "ATPM_rxn"
      ],
      "execution_count": 0,
      "outputs": []
    },
    {
      "cell_type": "code",
      "metadata": {
        "id": "TF7hxk4g4KIv",
        "colab_type": "code",
        "colab": {}
      },
      "source": [
        "# change the objective to ATPM\n",
        "model.objective = \"ATPM\""
      ],
      "execution_count": 0,
      "outputs": []
    },
    {
      "cell_type": "code",
      "metadata": {
        "id": "Ah9ANhc44KIx",
        "colab_type": "code",
        "colab": {}
      },
      "source": [
        "solution = model.optimize()\n",
        "solution.objective_value"
      ],
      "execution_count": 0,
      "outputs": []
    },
    {
      "cell_type": "code",
      "metadata": {
        "id": "xBPf7uNTI2A1",
        "colab_type": "code",
        "colab": {}
      },
      "source": [
        "solution.fluxes.to_json('results/flux_2.json')\n",
        "#files.download('results/flux_2.json')"
      ],
      "execution_count": 0,
      "outputs": []
    },
    {
      "cell_type": "markdown",
      "metadata": {
        "id": "AHEvVsCr4KIy",
        "colab_type": "text"
      },
      "source": [
        "\n",
        "Go to again to [Escher Maps](https://escher.github.io) and load the flux solution."
      ]
    },
    {
      "cell_type": "markdown",
      "metadata": {
        "id": "ZC9DySwzVGK2",
        "colab_type": "text"
      },
      "source": [
        "So far, we always searched for the maximum:"
      ]
    },
    {
      "cell_type": "code",
      "metadata": {
        "id": "zK46TL72UyRT",
        "colab_type": "code",
        "colab": {}
      },
      "source": [
        "model.objective_direction"
      ],
      "execution_count": 0,
      "outputs": []
    },
    {
      "cell_type": "markdown",
      "metadata": {
        "id": "tgmpYe8fVWkD",
        "colab_type": "text"
      },
      "source": [
        "but as for maintenace in terms of ATP minimisation might make more sense. You can simple set it like this:"
      ]
    },
    {
      "cell_type": "code",
      "metadata": {
        "id": "ZNIixAJRU6UR",
        "colab_type": "code",
        "colab": {}
      },
      "source": [
        "model.objective_direction = 'min'\n",
        "model.objective_direction"
      ],
      "execution_count": 0,
      "outputs": []
    },
    {
      "cell_type": "code",
      "metadata": {
        "id": "tG6Ojp8YU_s_",
        "colab_type": "code",
        "colab": {}
      },
      "source": [
        "solution = model.optimize()\n",
        "solution.objective_value"
      ],
      "execution_count": 0,
      "outputs": []
    },
    {
      "cell_type": "code",
      "metadata": {
        "id": "Ey0RR8MpVBfj",
        "colab_type": "code",
        "colab": {}
      },
      "source": [
        "solution.fluxes.to_json('results/flux_3.json')\n",
        "#files.download('results/flux_3.json')"
      ],
      "execution_count": 0,
      "outputs": []
    },
    {
      "cell_type": "markdown",
      "metadata": {
        "id": "gkBOJruWbzJ2",
        "colab_type": "text"
      },
      "source": [
        "Go to again to [Escher Maps](https://escher.github.io) and load the flux solution."
      ]
    },
    {
      "cell_type": "markdown",
      "metadata": {
        "id": "8XquhcDw14Ca",
        "colab_type": "text"
      },
      "source": [
        "# 4) omitted"
      ]
    },
    {
      "cell_type": "markdown",
      "metadata": {
        "id": "Bzb_opWo16Vb",
        "colab_type": "text"
      },
      "source": [
        "# 5) References"
      ]
    },
    {
      "cell_type": "markdown",
      "metadata": {
        "id": "Sx8nqQ931-Wz",
        "colab_type": "text"
      },
      "source": [
        "This material was compiled using https://cobrapy.readthedocs.io/en/latest/ and is influenced by the deNBI/IPK CompBiol Starter 2019 on Metabolic Modelling (Dr Blätke/Dr Szymanski).\n",
        "\n",
        " 10.1186/1752-0509-7-74"
      ]
    }
  ]
}