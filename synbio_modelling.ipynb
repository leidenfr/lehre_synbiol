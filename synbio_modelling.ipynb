{
  "nbformat": 4,
  "nbformat_minor": 0,
  "metadata": {
    "colab": {
      "name": "synbio_modelling.ipynb",
      "provenance": [],
      "collapsed_sections": [],
      "toc_visible": true
    },
    "kernelspec": {
      "name": "python3",
      "display_name": "Python 3"
    }
  },
  "cells": [
    {
      "cell_type": "markdown",
      "metadata": {
        "id": "MHSk4PiGfFKt",
        "colab_type": "text"
      },
      "source": [
        "# 1) Getting started\n"
      ]
    },
    {
      "cell_type": "markdown",
      "metadata": {
        "id": "cyEG5dQofJhe",
        "colab_type": "text"
      },
      "source": [
        "You can install required packages and dependencies with either apt-get or pip. \n",
        "The cobrapy package will come with *Salmonella* and *E. coli* models, as well as an *E. coli* textbook core metabolism model. We are going to load the textbook model, \"ecoli\" or \"salmonella\" would also be valid arguements."
      ]
    },
    {
      "cell_type": "markdown",
      "metadata": {
        "id": "Lur1JPsSieJ1",
        "colab_type": "text"
      },
      "source": [
        "\n",
        "\n",
        "```\n",
        "# This is formatted as code\n",
        "```\n",
        "\n",
        "## 1.1) Install dependencies and load cobrapy"
      ]
    },
    {
      "cell_type": "code",
      "metadata": {
        "id": "uFRvF05aePoz",
        "colab_type": "code",
        "outputId": "9e7722d8-29bd-4e46-aff7-21ffe9624454",
        "colab": {
          "base_uri": "https://localhost:8080/",
          "height": 119
        }
      },
      "source": [
        "!pip install -q cobra"
      ],
      "execution_count": 1,
      "outputs": [
        {
          "output_type": "stream",
          "text": [
            "\u001b[K     |████████████████████████████████| 1.9MB 9.9MB/s \n",
            "\u001b[K     |████████████████████████████████| 133kB 43.8MB/s \n",
            "\u001b[K     |████████████████████████████████| 133kB 64.8MB/s \n",
            "\u001b[K     |████████████████████████████████| 43.9MB 51kB/s \n",
            "\u001b[K     |████████████████████████████████| 634kB 46.6MB/s \n",
            "\u001b[K     |████████████████████████████████| 552kB 47.9MB/s \n",
            "\u001b[?25h"
          ],
          "name": "stdout"
        }
      ]
    },
    {
      "cell_type": "code",
      "metadata": {
        "id": "77FOJl9heF9b",
        "colab_type": "code",
        "colab": {}
      },
      "source": [
        "from __future__ import print_function\n",
        "\n",
        "import cobra\n",
        "import cobra.test\n",
        "\n",
        "model = cobra.test.create_test_model(\"textbook\")"
      ],
      "execution_count": 0,
      "outputs": []
    },
    {
      "cell_type": "markdown",
      "metadata": {
        "id": "NF9JZdcKiXuV",
        "colab_type": "text"
      },
      "source": [
        "## 1.2) Inspect the model"
      ]
    },
    {
      "cell_type": "markdown",
      "metadata": {
        "id": "DcQ_OT_5gGJb",
        "colab_type": "text"
      },
      "source": [
        "Now let's have a first glance at the model.\n",
        "\n"
      ]
    },
    {
      "cell_type": "code",
      "metadata": {
        "id": "-xOk6EMigykB",
        "colab_type": "code",
        "outputId": "3af42580-fe75-4864-aa8f-ef1cf79ccd3f",
        "colab": {
          "base_uri": "https://localhost:8080/",
          "height": 166
        }
      },
      "source": [
        "model"
      ],
      "execution_count": 3,
      "outputs": [
        {
          "output_type": "execute_result",
          "data": {
            "text/html": [
              "\n",
              "        <table>\n",
              "            <tr>\n",
              "                <td><strong>Name</strong></td>\n",
              "                <td>e_coli_core</td>\n",
              "            </tr><tr>\n",
              "                <td><strong>Memory address</strong></td>\n",
              "                <td>0x07fd0d9acf5c0</td>\n",
              "            </tr><tr>\n",
              "                <td><strong>Number of metabolites</strong></td>\n",
              "                <td>72</td>\n",
              "            </tr><tr>\n",
              "                <td><strong>Number of reactions</strong></td>\n",
              "                <td>95</td>\n",
              "            </tr><tr>\n",
              "                <td><strong>Number of groups</strong></td>\n",
              "                <td>0</td>\n",
              "            </tr><tr>\n",
              "                <td><strong>Objective expression</strong></td>\n",
              "                <td>1.0*Biomass_Ecoli_core - 1.0*Biomass_Ecoli_core_reverse_2cdba</td>\n",
              "            </tr><tr>\n",
              "                <td><strong>Compartments</strong></td>\n",
              "                <td>cytosol, extracellular</td>\n",
              "            </tr>\n",
              "          </table>"
            ],
            "text/plain": [
              "<Model e_coli_core at 0x7fd0d9acf5c0>"
            ]
          },
          "metadata": {
            "tags": []
          },
          "execution_count": 3
        }
      ]
    },
    {
      "cell_type": "markdown",
      "metadata": {
        "id": "uO5J-olLjAAs",
        "colab_type": "text"
      },
      "source": [
        "The reactions, metabolites, and genes attributes of the cobrapy model are a special type of list called a `cobra.DictList`, and each one is made up of `cobra.Reaction`, `cobra.Metabolite` and `cobra.Gene` objects respectively."
      ]
    },
    {
      "cell_type": "code",
      "metadata": {
        "id": "KbrJoXHPhJvp",
        "colab_type": "code",
        "outputId": "803bffec-e4f9-4bd4-ba93-2bf523ff3c5b",
        "colab": {
          "base_uri": "https://localhost:8080/",
          "height": 1000
        }
      },
      "source": [
        "model.reactions"
      ],
      "execution_count": 4,
      "outputs": [
        {
          "output_type": "execute_result",
          "data": {
            "text/plain": [
              "[<Reaction ACALD at 0x7fd0d9877f98>,\n",
              " <Reaction ACALDt at 0x7fd0d987f7b8>,\n",
              " <Reaction ACKr at 0x7fd0d987f748>,\n",
              " <Reaction ACONTa at 0x7fd0d987feb8>,\n",
              " <Reaction ACONTb at 0x7fd0d988c160>,\n",
              " <Reaction ACt2r at 0x7fd0d988c198>,\n",
              " <Reaction ADK1 at 0x7fd0d987fda0>,\n",
              " <Reaction AKGDH at 0x7fd0d988c4a8>,\n",
              " <Reaction AKGt2r at 0x7fd0d9894278>,\n",
              " <Reaction ALCD2x at 0x7fd0d9894630>,\n",
              " <Reaction ATPM at 0x7fd0d98945f8>,\n",
              " <Reaction ATPS4r at 0x7fd0d9894f60>,\n",
              " <Reaction Biomass_Ecoli_core at 0x7fd0d9894a58>,\n",
              " <Reaction CO2t at 0x7fd0d989e7b8>,\n",
              " <Reaction CS at 0x7fd0d989e438>,\n",
              " <Reaction CYTBD at 0x7fd0d989e470>,\n",
              " <Reaction D_LACt2 at 0x7fd0d9831630>,\n",
              " <Reaction ENO at 0x7fd0d98315f8>,\n",
              " <Reaction ETOHt2r at 0x7fd0d9831d30>,\n",
              " <Reaction EX_ac_e at 0x7fd0d9837160>,\n",
              " <Reaction EX_acald_e at 0x7fd0d9831c88>,\n",
              " <Reaction EX_akg_e at 0x7fd0d9837198>,\n",
              " <Reaction EX_co2_e at 0x7fd0d98372b0>,\n",
              " <Reaction EX_etoh_e at 0x7fd0d98373c8>,\n",
              " <Reaction EX_for_e at 0x7fd0d98374e0>,\n",
              " <Reaction EX_fru_e at 0x7fd0d98375f8>,\n",
              " <Reaction EX_fum_e at 0x7fd0d9837710>,\n",
              " <Reaction EX_glc__D_e at 0x7fd0d9837828>,\n",
              " <Reaction EX_gln__L_e at 0x7fd0d9837940>,\n",
              " <Reaction EX_glu__L_e at 0x7fd0d9837a20>,\n",
              " <Reaction EX_h_e at 0x7fd0d9837c88>,\n",
              " <Reaction EX_h2o_e at 0x7fd0d9837c50>,\n",
              " <Reaction EX_lac__D_e at 0x7fd0d9837da0>,\n",
              " <Reaction EX_mal__L_e at 0x7fd0d9837eb8>,\n",
              " <Reaction EX_nh4_e at 0x7fd0d9837f98>,\n",
              " <Reaction EX_o2_e at 0x7fd0d9845278>,\n",
              " <Reaction EX_pi_e at 0x7fd0d98453c8>,\n",
              " <Reaction EX_pyr_e at 0x7fd0d9845390>,\n",
              " <Reaction EX_succ_e at 0x7fd0d98454e0>,\n",
              " <Reaction FBA at 0x7fd0d98455f8>,\n",
              " <Reaction FBP at 0x7fd0d9845710>,\n",
              " <Reaction FORt2 at 0x7fd0d9845ac8>,\n",
              " <Reaction FORti at 0x7fd0d9845fd0>,\n",
              " <Reaction FRD7 at 0x7fd0d984c400>,\n",
              " <Reaction FRUpts2 at 0x7fd0d984cac8>,\n",
              " <Reaction FUM at 0x7fd0d984cba8>,\n",
              " <Reaction FUMt2_2 at 0x7fd0d9858518>,\n",
              " <Reaction G6PDH2r at 0x7fd0d9858978>,\n",
              " <Reaction GAPD at 0x7fd0d9858940>,\n",
              " <Reaction GLCpts at 0x7fd0d9862400>,\n",
              " <Reaction GLNS at 0x7fd0d98623c8>,\n",
              " <Reaction GLNabc at 0x7fd0d9862f60>,\n",
              " <Reaction GLUDy at 0x7fd0d9862ef0>,\n",
              " <Reaction GLUN at 0x7fd0d986a5c0>,\n",
              " <Reaction GLUSy at 0x7fd0d986ac88>,\n",
              " <Reaction GLUt2r at 0x7fd0d97f45f8>,\n",
              " <Reaction GND at 0x7fd0d97f4630>,\n",
              " <Reaction H2Ot at 0x7fd0d97f49e8>,\n",
              " <Reaction ICDHyr at 0x7fd0d97fd1d0>,\n",
              " <Reaction ICL at 0x7fd0d97fd198>,\n",
              " <Reaction LDH_D at 0x7fd0d97fd6a0>,\n",
              " <Reaction MALS at 0x7fd0d97fd978>,\n",
              " <Reaction MALt2_2 at 0x7fd0d9805400>,\n",
              " <Reaction MDH at 0x7fd0d9805438>,\n",
              " <Reaction ME1 at 0x7fd0d97fddd8>,\n",
              " <Reaction ME2 at 0x7fd0d9805c88>,\n",
              " <Reaction NADH16 at 0x7fd0d980d630>,\n",
              " <Reaction NADTRHD at 0x7fd0d980dfd0>,\n",
              " <Reaction NH4t at 0x7fd0d980dcf8>,\n",
              " <Reaction O2t at 0x7fd0d9812518>,\n",
              " <Reaction PDH at 0x7fd0d9812780>,\n",
              " <Reaction PFK at 0x7fd0d9812160>,\n",
              " <Reaction PFL at 0x7fd0d98126d8>,\n",
              " <Reaction PGI at 0x7fd0d981f4e0>,\n",
              " <Reaction PGK at 0x7fd0d981f9b0>,\n",
              " <Reaction PGL at 0x7fd0d981fc18>,\n",
              " <Reaction PGM at 0x7fd0d9828198>,\n",
              " <Reaction PIt2r at 0x7fd0d9828588>,\n",
              " <Reaction PPC at 0x7fd0d98287f0>,\n",
              " <Reaction PPCK at 0x7fd0d9828c50>,\n",
              " <Reaction PPS at 0x7fd0d97b02e8>,\n",
              " <Reaction PTAr at 0x7fd0d97b0748>,\n",
              " <Reaction PYK at 0x7fd0d97b0da0>,\n",
              " <Reaction PYRt2 at 0x7fd0d97b7128>,\n",
              " <Reaction RPE at 0x7fd0d97b7630>,\n",
              " <Reaction RPI at 0x7fd0d97b75c0>,\n",
              " <Reaction SUCCt2_2 at 0x7fd0d97b7b00>,\n",
              " <Reaction SUCCt3 at 0x7fd0d97c22e8>,\n",
              " <Reaction SUCDi at 0x7fd0d97b7a90>,\n",
              " <Reaction SUCOAS at 0x7fd0d97c2a20>,\n",
              " <Reaction TALA at 0x7fd0d97c2b00>,\n",
              " <Reaction THD2 at 0x7fd0d97ca0b8>,\n",
              " <Reaction TKT1 at 0x7fd0d97ca4a8>,\n",
              " <Reaction TKT2 at 0x7fd0d97caac8>,\n",
              " <Reaction TPI at 0x7fd0d97cad30>]"
            ]
          },
          "metadata": {
            "tags": []
          },
          "execution_count": 4
        }
      ]
    },
    {
      "cell_type": "code",
      "metadata": {
        "id": "4vMomZzxjG8t",
        "colab_type": "code",
        "colab": {
          "base_uri": "https://localhost:8080/",
          "height": 1000
        },
        "outputId": "c173085e-c519-4819-9438-284e5ce3554e"
      },
      "source": [
        "model.metabolites"
      ],
      "execution_count": 5,
      "outputs": [
        {
          "output_type": "execute_result",
          "data": {
            "text/plain": [
              "[<Metabolite 13dpg_c at 0x7fd0d98feba8>,\n",
              " <Metabolite 2pg_c at 0x7fd0d98feac8>,\n",
              " <Metabolite 3pg_c at 0x7fd0d98febe0>,\n",
              " <Metabolite 6pgc_c at 0x7fd0d99132b0>,\n",
              " <Metabolite 6pgl_c at 0x7fd0d99132e8>,\n",
              " <Metabolite ac_c at 0x7fd0d99130b8>,\n",
              " <Metabolite ac_e at 0x7fd0d99134a8>,\n",
              " <Metabolite acald_c at 0x7fd0d9913c88>,\n",
              " <Metabolite acald_e at 0x7fd0d9913f28>,\n",
              " <Metabolite accoa_c at 0x7fd0d9919208>,\n",
              " <Metabolite acon_C_c at 0x7fd0d9913f60>,\n",
              " <Metabolite actp_c at 0x7fd0d9919588>,\n",
              " <Metabolite adp_c at 0x7fd0d9919240>,\n",
              " <Metabolite akg_c at 0x7fd0d99195c0>,\n",
              " <Metabolite akg_e at 0x7fd0d99195f8>,\n",
              " <Metabolite amp_c at 0x7fd0d9919ac8>,\n",
              " <Metabolite atp_c at 0x7fd0d9919cf8>,\n",
              " <Metabolite cit_c at 0x7fd0d9919d30>,\n",
              " <Metabolite co2_c at 0x7fd0d9919f98>,\n",
              " <Metabolite co2_e at 0x7fd0d991f588>,\n",
              " <Metabolite coa_c at 0x7fd0d991f9b0>,\n",
              " <Metabolite dhap_c at 0x7fd0d991feb8>,\n",
              " <Metabolite e4p_c at 0x7fd0d991fc88>,\n",
              " <Metabolite etoh_c at 0x7fd0d99235f8>,\n",
              " <Metabolite etoh_e at 0x7fd0d99239b0>,\n",
              " <Metabolite f6p_c at 0x7fd0d9923668>,\n",
              " <Metabolite fdp_c at 0x7fd0d9923a20>,\n",
              " <Metabolite for_c at 0x7fd0d9923a58>,\n",
              " <Metabolite for_e at 0x7fd0d9923dd8>,\n",
              " <Metabolite fru_e at 0x7fd0d9929240>,\n",
              " <Metabolite fum_c at 0x7fd0d9929518>,\n",
              " <Metabolite fum_e at 0x7fd0d99297b8>,\n",
              " <Metabolite g3p_c at 0x7fd0d9929a58>,\n",
              " <Metabolite g6p_c at 0x7fd0d9929cf8>,\n",
              " <Metabolite glc__D_e at 0x7fd0d9929f98>,\n",
              " <Metabolite gln__L_c at 0x7fd0d9929fd0>,\n",
              " <Metabolite gln__L_e at 0x7fd0d98b1208>,\n",
              " <Metabolite glu__L_c at 0x7fd0d98b14a8>,\n",
              " <Metabolite glu__L_e at 0x7fd0d98b1630>,\n",
              " <Metabolite glx_c at 0x7fd0d98b1588>,\n",
              " <Metabolite h2o_c at 0x7fd0d98b19b0>,\n",
              " <Metabolite h2o_e at 0x7fd0d98b1be0>,\n",
              " <Metabolite h_c at 0x7fd0d98b1e80>,\n",
              " <Metabolite h_e at 0x7fd0d98b4320>,\n",
              " <Metabolite icit_c at 0x7fd0d98b4978>,\n",
              " <Metabolite lac__D_c at 0x7fd0d98b47b8>,\n",
              " <Metabolite lac__D_e at 0x7fd0d98b4b38>,\n",
              " <Metabolite mal__L_c at 0x7fd0d98b4cf8>,\n",
              " <Metabolite mal__L_e at 0x7fd0d98b4e48>,\n",
              " <Metabolite nad_c at 0x7fd0d98b4f98>,\n",
              " <Metabolite nadh_c at 0x7fd0d98bc320>,\n",
              " <Metabolite nadp_c at 0x7fd0d98bc588>,\n",
              " <Metabolite nadph_c at 0x7fd0d98bc7f0>,\n",
              " <Metabolite nh4_c at 0x7fd0d98bc5c0>,\n",
              " <Metabolite nh4_e at 0x7fd0d98bc828>,\n",
              " <Metabolite o2_c at 0x7fd0d98bcc88>,\n",
              " <Metabolite o2_e at 0x7fd0d98c0080>,\n",
              " <Metabolite oaa_c at 0x7fd0d98c0470>,\n",
              " <Metabolite pep_c at 0x7fd0d98c0710>,\n",
              " <Metabolite pi_c at 0x7fd0d98c0978>,\n",
              " <Metabolite pi_e at 0x7fd0d98c0be0>,\n",
              " <Metabolite pyr_c at 0x7fd0d98c0e10>,\n",
              " <Metabolite pyr_e at 0x7fd0d98c5160>,\n",
              " <Metabolite q8_c at 0x7fd0d98c5470>,\n",
              " <Metabolite q8h2_c at 0x7fd0d98c58d0>,\n",
              " <Metabolite r5p_c at 0x7fd0d98c56d8>,\n",
              " <Metabolite ru5p__D_c at 0x7fd0d98c5908>,\n",
              " <Metabolite s7p_c at 0x7fd0d98c5c50>,\n",
              " <Metabolite succ_c at 0x7fd0d98cb048>,\n",
              " <Metabolite succ_e at 0x7fd0d98cb470>,\n",
              " <Metabolite succoa_c at 0x7fd0d98cb240>,\n",
              " <Metabolite xu5p__D_c at 0x7fd0d98cb4a8>]"
            ]
          },
          "metadata": {
            "tags": []
          },
          "execution_count": 5
        }
      ]
    },
    {
      "cell_type": "code",
      "metadata": {
        "id": "DzmUZL-pjHqF",
        "colab_type": "code",
        "colab": {
          "base_uri": "https://localhost:8080/",
          "height": 1000
        },
        "outputId": "54f9e043-ad69-4861-ab24-69d05355932a"
      },
      "source": [
        "model.genes"
      ],
      "execution_count": 6,
      "outputs": [
        {
          "output_type": "execute_result",
          "data": {
            "text/plain": [
              "[<Gene b1241 at 0x7fd108c61c88>,\n",
              " <Gene b0351 at 0x7fd108c6c9b0>,\n",
              " <Gene s0001 at 0x7fd10d4dfb00>,\n",
              " <Gene b3115 at 0x7fd0ebd229e8>,\n",
              " <Gene b1849 at 0x7fd0d98d4c50>,\n",
              " <Gene b2296 at 0x7fd0d98d4cf8>,\n",
              " <Gene b1276 at 0x7fd0d98d4dd8>,\n",
              " <Gene b0118 at 0x7fd0d98d4eb8>,\n",
              " <Gene b0474 at 0x7fd0d98d4f60>,\n",
              " <Gene b0116 at 0x7fd0d98da048>,\n",
              " <Gene b0726 at 0x7fd0d98da198>,\n",
              " <Gene b0727 at 0x7fd0d98da1d0>,\n",
              " <Gene b2587 at 0x7fd0d98da278>,\n",
              " <Gene b0356 at 0x7fd0d98da320>,\n",
              " <Gene b1478 at 0x7fd0d98da3c8>,\n",
              " <Gene b3735 at 0x7fd0d98da470>,\n",
              " <Gene b3733 at 0x7fd0d98da518>,\n",
              " <Gene b3734 at 0x7fd0d98da5f8>,\n",
              " <Gene b3732 at 0x7fd0d98da6d8>,\n",
              " <Gene b3736 at 0x7fd0d98da7b8>,\n",
              " <Gene b3738 at 0x7fd0d98da898>,\n",
              " <Gene b3731 at 0x7fd0d98da978>,\n",
              " <Gene b3737 at 0x7fd0d98daa58>,\n",
              " <Gene b3739 at 0x7fd0d98dab38>,\n",
              " <Gene b0720 at 0x7fd0d98dac18>,\n",
              " <Gene b0733 at 0x7fd0d98dacf8>,\n",
              " <Gene b0979 at 0x7fd0d98dadd8>,\n",
              " <Gene b0978 at 0x7fd0d98daeb8>,\n",
              " <Gene b0734 at 0x7fd0d98daf60>,\n",
              " <Gene b2975 at 0x7fd0d98e0048>,\n",
              " <Gene b3603 at 0x7fd0d98e0128>,\n",
              " <Gene b2779 at 0x7fd0d98e01d0>,\n",
              " <Gene b1773 at 0x7fd0d98e0278>,\n",
              " <Gene b2925 at 0x7fd0d98e0358>,\n",
              " <Gene b2097 at 0x7fd0d98e0400>,\n",
              " <Gene b4232 at 0x7fd0d98e04a8>,\n",
              " <Gene b3925 at 0x7fd0d98e0550>,\n",
              " <Gene b0904 at 0x7fd0d98e06a0>,\n",
              " <Gene b2492 at 0x7fd0d98e0710>,\n",
              " <Gene b4154 at 0x7fd0d98e07b8>,\n",
              " <Gene b4152 at 0x7fd0d98e0860>,\n",
              " <Gene b4153 at 0x7fd0d98e0940>,\n",
              " <Gene b4151 at 0x7fd0d98e09e8>,\n",
              " <Gene b1819 at 0x7fd0d98e0a90>,\n",
              " <Gene b1817 at 0x7fd0d98e0b38>,\n",
              " <Gene b2415 at 0x7fd0d98e0be0>,\n",
              " <Gene b1818 at 0x7fd0d98e0c88>,\n",
              " <Gene b2416 at 0x7fd0d98e0d30>,\n",
              " <Gene b1611 at 0x7fd0d98e0dd8>,\n",
              " <Gene b4122 at 0x7fd0d98e0e80>,\n",
              " <Gene b1612 at 0x7fd0d98e0f60>,\n",
              " <Gene b3528 at 0x7fd0d98e6048>,\n",
              " <Gene b1852 at 0x7fd0d98e60f0>,\n",
              " <Gene b1779 at 0x7fd0d98e6198>,\n",
              " <Gene b1621 at 0x7fd0d98e6278>,\n",
              " <Gene b1101 at 0x7fd0d98e6320>,\n",
              " <Gene b2417 at 0x7fd0d98e63c8>,\n",
              " <Gene b3870 at 0x7fd0d98e6470>,\n",
              " <Gene b1297 at 0x7fd0d98e6518>,\n",
              " <Gene b0809 at 0x7fd0d98e65f8>,\n",
              " <Gene b0810 at 0x7fd0d98e66a0>,\n",
              " <Gene b0811 at 0x7fd0d98e6748>,\n",
              " <Gene b1761 at 0x7fd0d98e67f0>,\n",
              " <Gene b1524 at 0x7fd0d98e68d0>,\n",
              " <Gene b1812 at 0x7fd0d98e69b0>,\n",
              " <Gene b0485 at 0x7fd0d98e6a58>,\n",
              " <Gene b3213 at 0x7fd0d98e6b00>,\n",
              " <Gene b3212 at 0x7fd0d98e6ba8>,\n",
              " <Gene b4077 at 0x7fd0d98e6c88>,\n",
              " <Gene b2029 at 0x7fd0d98e6dd8>,\n",
              " <Gene b0875 at 0x7fd0d98e6e10>,\n",
              " <Gene b1136 at 0x7fd0d98e6ef0>,\n",
              " <Gene b4015 at 0x7fd0d98e6f98>,\n",
              " <Gene b2133 at 0x7fd0d98ea0b8>,\n",
              " <Gene b1380 at 0x7fd0d98ea160>,\n",
              " <Gene b4014 at 0x7fd0d98ea208>,\n",
              " <Gene b2976 at 0x7fd0d98ea2b0>,\n",
              " <Gene b3236 at 0x7fd0d98ea358>,\n",
              " <Gene b1479 at 0x7fd0d98ea400>,\n",
              " <Gene b2463 at 0x7fd0d98ea4a8>,\n",
              " <Gene b2286 at 0x7fd0d98ea550>,\n",
              " <Gene b2279 at 0x7fd0d98ea5f8>,\n",
              " <Gene b2276 at 0x7fd0d98ea6a0>,\n",
              " <Gene b2280 at 0x7fd0d98ea748>,\n",
              " <Gene b2288 at 0x7fd0d98ea7f0>,\n",
              " <Gene b2284 at 0x7fd0d98ea898>,\n",
              " <Gene b2287 at 0x7fd0d98ea940>,\n",
              " <Gene b2281 at 0x7fd0d98ea9e8>,\n",
              " <Gene b2277 at 0x7fd0d98eaa90>,\n",
              " <Gene b2285 at 0x7fd0d98eab38>,\n",
              " <Gene b2282 at 0x7fd0d98eabe0>,\n",
              " <Gene b2278 at 0x7fd0d98eac88>,\n",
              " <Gene b2283 at 0x7fd0d98ead30>,\n",
              " <Gene b3962 at 0x7fd0d98eadd8>,\n",
              " <Gene b1602 at 0x7fd0d98eae80>,\n",
              " <Gene b1603 at 0x7fd0d98eaf28>,\n",
              " <Gene b0451 at 0x7fd0d98eafd0>,\n",
              " <Gene b0114 at 0x7fd0d9870128>,\n",
              " <Gene b0115 at 0x7fd0d98701d0>,\n",
              " <Gene b3916 at 0x7fd0d9870278>,\n",
              " <Gene b1723 at 0x7fd0d9870320>,\n",
              " <Gene b0902 at 0x7fd0d9870470>,\n",
              " <Gene b0903 at 0x7fd0d98704a8>,\n",
              " <Gene b2579 at 0x7fd0d9870550>,\n",
              " <Gene b3114 at 0x7fd0d98705f8>,\n",
              " <Gene b3952 at 0x7fd0d98706a0>,\n",
              " <Gene b3951 at 0x7fd0d9870748>,\n",
              " <Gene b4025 at 0x7fd0d98707f0>,\n",
              " <Gene b2926 at 0x7fd0d9870898>,\n",
              " <Gene b0767 at 0x7fd0d9870978>,\n",
              " <Gene b0755 at 0x7fd0d9870a58>,\n",
              " <Gene b3612 at 0x7fd0d9870b00>,\n",
              " <Gene b4395 at 0x7fd0d9870ba8>,\n",
              " <Gene b3493 at 0x7fd0d9870c50>,\n",
              " <Gene b2987 at 0x7fd0d9870cf8>,\n",
              " <Gene b3956 at 0x7fd0d9870da0>,\n",
              " <Gene b3403 at 0x7fd0d9870e48>,\n",
              " <Gene b1702 at 0x7fd0d9870f28>,\n",
              " <Gene b2297 at 0x7fd0d9870fd0>,\n",
              " <Gene b2458 at 0x7fd0d98770f0>,\n",
              " <Gene b1676 at 0x7fd0d98771d0>,\n",
              " <Gene b1854 at 0x7fd0d9877278>,\n",
              " <Gene b4301 at 0x7fd0d98773c8>,\n",
              " <Gene b3386 at 0x7fd0d9877400>,\n",
              " <Gene b2914 at 0x7fd0d98774a8>,\n",
              " <Gene b4090 at 0x7fd0d9877550>,\n",
              " <Gene b0722 at 0x7fd0d9877630>,\n",
              " <Gene b0724 at 0x7fd0d9877710>,\n",
              " <Gene b0721 at 0x7fd0d98777b8>,\n",
              " <Gene b0723 at 0x7fd0d9877908>,\n",
              " <Gene b0728 at 0x7fd0d9877940>,\n",
              " <Gene b0729 at 0x7fd0d98779e8>,\n",
              " <Gene b2464 at 0x7fd0d9877ac8>,\n",
              " <Gene b0008 at 0x7fd0d9877ba8>,\n",
              " <Gene b2935 at 0x7fd0d9877c50>,\n",
              " <Gene b2465 at 0x7fd0d9877d30>,\n",
              " <Gene b3919 at 0x7fd0d9877e10>]"
            ]
          },
          "metadata": {
            "tags": []
          },
          "execution_count": 6
        }
      ]
    },
    {
      "cell_type": "markdown",
      "metadata": {
        "id": "swQpSKaEjOe0",
        "colab_type": "text"
      },
      "source": [
        "Just like a regular list, objects in the `DictList` can be retrieved by index. For example, to get the 17th reactions in the model (at index 16 because of 0-indexing):"
      ]
    },
    {
      "cell_type": "code",
      "metadata": {
        "id": "U8aQ8N81jV1s",
        "colab_type": "code",
        "outputId": "6b2af8ed-c158-4442-cb27-82829b73f15d",
        "colab": {
          "base_uri": "https://localhost:8080/",
          "height": 201
        }
      },
      "source": [
        "model.reactions[16]"
      ],
      "execution_count": 7,
      "outputs": [
        {
          "output_type": "execute_result",
          "data": {
            "text/html": [
              "\n",
              "        <table>\n",
              "            <tr>\n",
              "                <td><strong>Reaction identifier</strong></td><td>D_LACt2</td>\n",
              "            </tr><tr>\n",
              "                <td><strong>Name</strong></td><td>R D lactate transport via proton - symport</td>\n",
              "            </tr><tr>\n",
              "                <td><strong>Memory address</strong></td>\n",
              "                <td>0x07fd0d9831630</td>\n",
              "            </tr><tr>\n",
              "                <td><strong>Stoichiometry</strong></td>\n",
              "                <td>\n",
              "                    <p style='text-align:right'>h_e + lac__D_e <=> h_c + lac__D_c</p>\n",
              "                    <p style='text-align:right'>H+ + D-Lactate <=> H+ + D-Lactate</p>\n",
              "                </td>\n",
              "            </tr><tr>\n",
              "                <td><strong>GPR</strong></td><td>b2975 or b3603</td>\n",
              "            </tr><tr>\n",
              "                <td><strong>Lower bound</strong></td><td>-1000.0</td>\n",
              "            </tr><tr>\n",
              "                <td><strong>Upper bound</strong></td><td>1000.0</td>\n",
              "            </tr>\n",
              "        </table>\n",
              "        "
            ],
            "text/plain": [
              "<Reaction D_LACt2 at 0x7fd0d9831630>"
            ]
          },
          "metadata": {
            "tags": []
          },
          "execution_count": 7
        }
      ]
    },
    {
      "cell_type": "markdown",
      "metadata": {
        "id": "PwmUBhahxlve",
        "colab_type": "text"
      },
      "source": [
        "##1.3) Reactions, Metabolites and Genes"
      ]
    },
    {
      "cell_type": "markdown",
      "metadata": {
        "id": "bL3kWWOHx6RO",
        "colab_type": "text"
      },
      "source": [
        "### 1.3.1) Reactions"
      ]
    },
    {
      "cell_type": "markdown",
      "metadata": {
        "id": "-Dk2G_llyAdR",
        "colab_type": "text"
      },
      "source": [
        "We will consider the reaction glucose 6-phosphate isomerase, which interconverts glucose 6-phosphate and fructose 6-phosphate. The reaction id for this reaction in our test model is PGI."
      ]
    },
    {
      "cell_type": "code",
      "metadata": {
        "id": "n7fyS1h7yCQ5",
        "colab_type": "code",
        "outputId": "3e7a2faf-ab8e-428b-9156-0b2008741c57",
        "colab": {
          "base_uri": "https://localhost:8080/",
          "height": 201
        }
      },
      "source": [
        "pgi = model.reactions.get_by_id(\"PGI\")\n",
        "pgi"
      ],
      "execution_count": 8,
      "outputs": [
        {
          "output_type": "execute_result",
          "data": {
            "text/html": [
              "\n",
              "        <table>\n",
              "            <tr>\n",
              "                <td><strong>Reaction identifier</strong></td><td>PGI</td>\n",
              "            </tr><tr>\n",
              "                <td><strong>Name</strong></td><td>glucose-6-phosphate isomerase</td>\n",
              "            </tr><tr>\n",
              "                <td><strong>Memory address</strong></td>\n",
              "                <td>0x07fd0d981f4e0</td>\n",
              "            </tr><tr>\n",
              "                <td><strong>Stoichiometry</strong></td>\n",
              "                <td>\n",
              "                    <p style='text-align:right'>g6p_c <=> f6p_c</p>\n",
              "                    <p style='text-align:right'>D-Glucose 6-phosphate <=> D-Fructose 6-phosphate</p>\n",
              "                </td>\n",
              "            </tr><tr>\n",
              "                <td><strong>GPR</strong></td><td>b4025</td>\n",
              "            </tr><tr>\n",
              "                <td><strong>Lower bound</strong></td><td>-1000.0</td>\n",
              "            </tr><tr>\n",
              "                <td><strong>Upper bound</strong></td><td>1000.0</td>\n",
              "            </tr>\n",
              "        </table>\n",
              "        "
            ],
            "text/plain": [
              "<Reaction PGI at 0x7fd0d981f4e0>"
            ]
          },
          "metadata": {
            "tags": []
          },
          "execution_count": 8
        }
      ]
    },
    {
      "cell_type": "markdown",
      "metadata": {
        "id": "RphqJfeGyDv4",
        "colab_type": "text"
      },
      "source": [
        "We can view the full name and reaction catalyzed as strings"
      ]
    },
    {
      "cell_type": "code",
      "metadata": {
        "id": "s9YWPqIcyFo5",
        "colab_type": "code",
        "outputId": "a4b25518-c1c6-4947-c1e6-289df9434f67",
        "colab": {
          "base_uri": "https://localhost:8080/",
          "height": 51
        }
      },
      "source": [
        "print(pgi.name)\n",
        "print(pgi.reaction)"
      ],
      "execution_count": 9,
      "outputs": [
        {
          "output_type": "stream",
          "text": [
            "glucose-6-phosphate isomerase\n",
            "g6p_c <=> f6p_c\n"
          ],
          "name": "stdout"
        }
      ]
    },
    {
      "cell_type": "markdown",
      "metadata": {
        "id": "A-tIFkhnyHoA",
        "colab_type": "text"
      },
      "source": [
        "We can also view reaction upper and lower bounds. Because the pgi.lower_bound < 0, and pgi.upper_bound > 0, pgi is reversible."
      ]
    },
    {
      "cell_type": "code",
      "metadata": {
        "id": "_6kzBKhvyI7Z",
        "colab_type": "code",
        "outputId": "e6ec903b-88f5-4ef0-903c-b03fccf5e54b",
        "colab": {
          "base_uri": "https://localhost:8080/",
          "height": 51
        }
      },
      "source": [
        "print(pgi.lower_bound, \"< pgi <\", pgi.upper_bound)\n",
        "print(pgi.reversibility)"
      ],
      "execution_count": 10,
      "outputs": [
        {
          "output_type": "stream",
          "text": [
            "-1000.0 < pgi < 1000.0\n",
            "True\n"
          ],
          "name": "stdout"
        }
      ]
    },
    {
      "cell_type": "markdown",
      "metadata": {
        "id": "ZFoxvm30yKWy",
        "colab_type": "text"
      },
      "source": [
        "We can also ensure the reaction is mass balanced. This function will return elements which violate mass balance. If it comes back empty, then the reaction is mass balanced."
      ]
    },
    {
      "cell_type": "code",
      "metadata": {
        "id": "1cteOrVnyMXA",
        "colab_type": "code",
        "outputId": "526b73f8-50c0-4bc3-cd95-e1a2e969a5d8",
        "colab": {
          "base_uri": "https://localhost:8080/",
          "height": 34
        }
      },
      "source": [
        "pgi.check_mass_balance()"
      ],
      "execution_count": 11,
      "outputs": [
        {
          "output_type": "execute_result",
          "data": {
            "text/plain": [
              "{}"
            ]
          },
          "metadata": {
            "tags": []
          },
          "execution_count": 11
        }
      ]
    },
    {
      "cell_type": "markdown",
      "metadata": {
        "id": "3AGvxdzYMTk1",
        "colab_type": "text"
      },
      "source": [
        "In order to add a metabolite, we pass in a `dict` with the metabolite object and its coefficient"
      ]
    },
    {
      "cell_type": "code",
      "metadata": {
        "id": "S8iQv44dMTk2",
        "colab_type": "code",
        "outputId": "6b1e078e-e65b-45bf-a79a-d6262f99a6ef",
        "colab": {
          "base_uri": "https://localhost:8080/",
          "height": 34
        }
      },
      "source": [
        "pgi.add_metabolites({model.metabolites.get_by_id(\"h_c\"): -1})\n",
        "pgi.reaction"
      ],
      "execution_count": 12,
      "outputs": [
        {
          "output_type": "execute_result",
          "data": {
            "text/plain": [
              "'g6p_c + h_c <=> f6p_c'"
            ]
          },
          "metadata": {
            "tags": []
          },
          "execution_count": 12
        }
      ]
    },
    {
      "cell_type": "markdown",
      "metadata": {
        "id": "qnsUDMSAMTk5",
        "colab_type": "text"
      },
      "source": [
        "The reaction is no longer mass balanced"
      ]
    },
    {
      "cell_type": "code",
      "metadata": {
        "id": "epPwdICSMTk6",
        "colab_type": "code",
        "outputId": "f0d3c5c1-38d1-47e3-e391-e9434d5773a1",
        "colab": {
          "base_uri": "https://localhost:8080/",
          "height": 34
        }
      },
      "source": [
        "pgi.check_mass_balance()"
      ],
      "execution_count": 13,
      "outputs": [
        {
          "output_type": "execute_result",
          "data": {
            "text/plain": [
              "{'H': -1.0, 'charge': -1.0}"
            ]
          },
          "metadata": {
            "tags": []
          },
          "execution_count": 13
        }
      ]
    },
    {
      "cell_type": "markdown",
      "metadata": {
        "id": "Q8HKx5K3MTlA",
        "colab_type": "text"
      },
      "source": [
        "We can remove the metabolite, and the reaction will be balanced once again."
      ]
    },
    {
      "cell_type": "code",
      "metadata": {
        "id": "uTI1hgv3MTlB",
        "colab_type": "code",
        "outputId": "3eacd733-7990-4a95-b724-bc227561f736",
        "colab": {
          "base_uri": "https://localhost:8080/",
          "height": 51
        }
      },
      "source": [
        "pgi.subtract_metabolites({model.metabolites.get_by_id(\"h_c\"): -1})\n",
        "print(pgi.reaction)\n",
        "print(pgi.check_mass_balance())"
      ],
      "execution_count": 14,
      "outputs": [
        {
          "output_type": "stream",
          "text": [
            "g6p_c <=> f6p_c\n",
            "{}\n"
          ],
          "name": "stdout"
        }
      ]
    },
    {
      "cell_type": "markdown",
      "metadata": {
        "id": "zlvUyMeHMTlD",
        "colab_type": "text"
      },
      "source": [
        "It is also possible to build the reaction from a string. However, care must be taken when doing this to ensure reaction id's match those in the model. The direction of the arrow is also used to update the upper and lower bounds."
      ]
    },
    {
      "cell_type": "code",
      "metadata": {
        "id": "of-Aeu8lMTlE",
        "colab_type": "code",
        "outputId": "5141cbf6-5e8a-4c5f-e0b1-541f250dbe9e",
        "colab": {
          "base_uri": "https://localhost:8080/",
          "height": 51
        }
      },
      "source": [
        "pgi.reaction = \"g6p_c --> f6p_c + h_c + green_eggs + ham\""
      ],
      "execution_count": 15,
      "outputs": [
        {
          "output_type": "stream",
          "text": [
            "unknown metabolite 'green_eggs' created\n",
            "unknown metabolite 'ham' created\n"
          ],
          "name": "stdout"
        }
      ]
    },
    {
      "cell_type": "code",
      "metadata": {
        "id": "qHj4tqTXMTlI",
        "colab_type": "code",
        "outputId": "4a4890ff-1abc-4f5c-9b57-03e34495f622",
        "colab": {
          "base_uri": "https://localhost:8080/",
          "height": 34
        }
      },
      "source": [
        "pgi.reaction"
      ],
      "execution_count": 16,
      "outputs": [
        {
          "output_type": "execute_result",
          "data": {
            "text/plain": [
              "'g6p_c --> f6p_c + green_eggs + h_c + ham'"
            ]
          },
          "metadata": {
            "tags": []
          },
          "execution_count": 16
        }
      ]
    },
    {
      "cell_type": "code",
      "metadata": {
        "id": "jYoppL1BMTlL",
        "colab_type": "code",
        "outputId": "d5532c21-b178-4226-bf15-24231420a299",
        "colab": {
          "base_uri": "https://localhost:8080/",
          "height": 34
        }
      },
      "source": [
        "pgi.reaction = \"g6p_c <=> f6p_c\"\n",
        "pgi.reaction"
      ],
      "execution_count": 17,
      "outputs": [
        {
          "output_type": "execute_result",
          "data": {
            "text/plain": [
              "'g6p_c <=> f6p_c'"
            ]
          },
          "metadata": {
            "tags": []
          },
          "execution_count": 17
        }
      ]
    },
    {
      "cell_type": "markdown",
      "metadata": {
        "id": "U5GMG6pyycJC",
        "colab_type": "text"
      },
      "source": [
        "###1.3.2) Metabolites"
      ]
    },
    {
      "cell_type": "markdown",
      "metadata": {
        "id": "oT6hwlIdMTlQ",
        "colab_type": "text"
      },
      "source": [
        "We will consider cytosolic atp as our metabolite, which has the id `\"atp_c\"` in our test model."
      ]
    },
    {
      "cell_type": "code",
      "metadata": {
        "id": "iULDYfhaMTlR",
        "colab_type": "code",
        "colab": {
          "base_uri": "https://localhost:8080/",
          "height": 145
        },
        "outputId": "c30bb8a2-d3f2-49bb-9f12-485404ba1ed0"
      },
      "source": [
        "atp = model.metabolites.get_by_id(\"atp_c\")\n",
        "atp"
      ],
      "execution_count": 18,
      "outputs": [
        {
          "output_type": "execute_result",
          "data": {
            "text/html": [
              "\n",
              "        <table>\n",
              "            <tr>\n",
              "                <td><strong>Metabolite identifier</strong></td><td>atp_c</td>\n",
              "            </tr><tr>\n",
              "                <td><strong>Name</strong></td><td>ATP</td>\n",
              "            </tr><tr>\n",
              "                <td><strong>Memory address</strong></td>\n",
              "                <td>0x07fd0d9919cf8</td>\n",
              "            </tr><tr>\n",
              "                <td><strong>Formula</strong></td><td>C10H12N5O13P3</td>\n",
              "            </tr><tr>\n",
              "                <td><strong>Compartment</strong></td><td>c</td>\n",
              "            </tr><tr>\n",
              "                <td><strong>In 13 reaction(s)</strong></td><td>\n",
              "                    SUCOAS, Biomass_Ecoli_core, PPCK, PYK, PPS, ACKr, ATPS4r, GLNabc, PFK, ADK1, PGK, GLNS, ATPM</td>\n",
              "            </tr>\n",
              "        </table>"
            ],
            "text/plain": [
              "<Metabolite atp_c at 0x7fd0d9919cf8>"
            ]
          },
          "metadata": {
            "tags": []
          },
          "execution_count": 18
        }
      ]
    },
    {
      "cell_type": "markdown",
      "metadata": {
        "id": "-2H9FrUtMTlV",
        "colab_type": "text"
      },
      "source": [
        "We can print out the metabolite name and compartment (cytosol in this case) directly as string."
      ]
    },
    {
      "cell_type": "code",
      "metadata": {
        "id": "wNVgummBMTlW",
        "colab_type": "code",
        "colab": {
          "base_uri": "https://localhost:8080/",
          "height": 51
        },
        "outputId": "a57d20ad-1e3b-4b69-9ba9-b284d56722df"
      },
      "source": [
        "print(atp.name)\n",
        "print(atp.compartment)"
      ],
      "execution_count": 19,
      "outputs": [
        {
          "output_type": "stream",
          "text": [
            "ATP\n",
            "c\n"
          ],
          "name": "stdout"
        }
      ]
    },
    {
      "cell_type": "markdown",
      "metadata": {
        "id": "7kSVDeThMTla",
        "colab_type": "text"
      },
      "source": [
        "We can see that ATP is a charged molecule in our model."
      ]
    },
    {
      "cell_type": "code",
      "metadata": {
        "id": "IYKYB_tbMTla",
        "colab_type": "code",
        "colab": {
          "base_uri": "https://localhost:8080/",
          "height": 34
        },
        "outputId": "0a052134-9fc1-45cb-adf5-430dc42ef6e2"
      },
      "source": [
        "atp.charge"
      ],
      "execution_count": 20,
      "outputs": [
        {
          "output_type": "execute_result",
          "data": {
            "text/plain": [
              "-4"
            ]
          },
          "metadata": {
            "tags": []
          },
          "execution_count": 20
        }
      ]
    },
    {
      "cell_type": "markdown",
      "metadata": {
        "id": "D7RFUevKMTld",
        "colab_type": "text"
      },
      "source": [
        "We can see the chemical formula for the metabolite as well."
      ]
    },
    {
      "cell_type": "code",
      "metadata": {
        "id": "BsdnBIzfMTle",
        "colab_type": "code",
        "colab": {
          "base_uri": "https://localhost:8080/",
          "height": 34
        },
        "outputId": "26f5789f-16a4-4a25-8fa5-bc2d9ae8caf7"
      },
      "source": [
        "print(atp.formula)"
      ],
      "execution_count": 21,
      "outputs": [
        {
          "output_type": "stream",
          "text": [
            "C10H12N5O13P3\n"
          ],
          "name": "stdout"
        }
      ]
    },
    {
      "cell_type": "markdown",
      "metadata": {
        "id": "NVCOcOLPMTli",
        "colab_type": "text"
      },
      "source": [
        "The reactions attribute gives a `frozenset` of all reactions using the given metabolite. We can use this to count the number of reactions which use atp."
      ]
    },
    {
      "cell_type": "code",
      "metadata": {
        "id": "gighV1VRMTlj",
        "colab_type": "code",
        "colab": {
          "base_uri": "https://localhost:8080/",
          "height": 34
        },
        "outputId": "43666047-dedb-4f27-8ec5-7d207ca9c25a"
      },
      "source": [
        "len(atp.reactions)"
      ],
      "execution_count": 22,
      "outputs": [
        {
          "output_type": "execute_result",
          "data": {
            "text/plain": [
              "13"
            ]
          },
          "metadata": {
            "tags": []
          },
          "execution_count": 22
        }
      ]
    },
    {
      "cell_type": "markdown",
      "metadata": {
        "id": "hoPu0prKMTlm",
        "colab_type": "text"
      },
      "source": [
        "A metabolite like glucose 6-phosphate will participate in fewer reactions."
      ]
    },
    {
      "cell_type": "code",
      "metadata": {
        "id": "akI14jqtMTln",
        "colab_type": "code",
        "colab": {
          "base_uri": "https://localhost:8080/",
          "height": 85
        },
        "outputId": "517e0746-e01b-4885-c32c-f084a80adb5b"
      },
      "source": [
        "model.metabolites.get_by_id(\"g6p_c\").reactions"
      ],
      "execution_count": 23,
      "outputs": [
        {
          "output_type": "execute_result",
          "data": {
            "text/plain": [
              "frozenset({<Reaction Biomass_Ecoli_core at 0x7fd0d9894a58>,\n",
              "           <Reaction G6PDH2r at 0x7fd0d9858978>,\n",
              "           <Reaction GLCpts at 0x7fd0d9862400>,\n",
              "           <Reaction PGI at 0x7fd0d981f4e0>})"
            ]
          },
          "metadata": {
            "tags": []
          },
          "execution_count": 23
        }
      ]
    },
    {
      "cell_type": "markdown",
      "metadata": {
        "id": "Pt4NoaJMylEk",
        "colab_type": "text"
      },
      "source": [
        "###1.3.3) Genes"
      ]
    },
    {
      "cell_type": "markdown",
      "metadata": {
        "id": "WLTu6o-gMTls",
        "colab_type": "text"
      },
      "source": [
        "The `gene_reaction_rule` is a boolean representation of the gene requirements for this reaction to be active as described in [Schellenberger et al 2011 Nature Protocols 6(9):1290-307](http://dx.doi.org/doi:10.1038/nprot.2011.308).\n",
        "\n",
        "The GPR is stored as the gene_reaction_rule for a Reaction object as a string."
      ]
    },
    {
      "cell_type": "code",
      "metadata": {
        "id": "Ht2Rc22lMTlt",
        "colab_type": "code",
        "colab": {
          "base_uri": "https://localhost:8080/",
          "height": 34
        },
        "outputId": "2196d037-974a-47a7-e91a-0e2d6ee4ae80"
      },
      "source": [
        "gpr = pgi.gene_reaction_rule\n",
        "gpr"
      ],
      "execution_count": 24,
      "outputs": [
        {
          "output_type": "execute_result",
          "data": {
            "text/plain": [
              "'b4025'"
            ]
          },
          "metadata": {
            "tags": []
          },
          "execution_count": 24
        }
      ]
    },
    {
      "cell_type": "markdown",
      "metadata": {
        "id": "GoVPOWRqMTlw",
        "colab_type": "text"
      },
      "source": [
        "Corresponding gene objects also exist. These objects are tracked by the reactions itself, as well as by the model"
      ]
    },
    {
      "cell_type": "code",
      "metadata": {
        "id": "P8yU-wt4MTl0",
        "colab_type": "code",
        "colab": {
          "base_uri": "https://localhost:8080/",
          "height": 34
        },
        "outputId": "ad7216c5-fa6f-4fa0-d129-f4a765f365d4"
      },
      "source": [
        "pgi.genes"
      ],
      "execution_count": 25,
      "outputs": [
        {
          "output_type": "execute_result",
          "data": {
            "text/plain": [
              "frozenset({<Gene b4025 at 0x7fd0d98707f0>})"
            ]
          },
          "metadata": {
            "tags": []
          },
          "execution_count": 25
        }
      ]
    },
    {
      "cell_type": "code",
      "metadata": {
        "id": "NcgosYxIMTl3",
        "colab_type": "code",
        "colab": {
          "base_uri": "https://localhost:8080/",
          "height": 124
        },
        "outputId": "599f33c1-5b6c-41cc-94c3-f5e175b2c873"
      },
      "source": [
        "pgi_gene = model.genes.get_by_id(\"b4025\")\n",
        "pgi_gene"
      ],
      "execution_count": 26,
      "outputs": [
        {
          "output_type": "execute_result",
          "data": {
            "text/html": [
              "\n",
              "        <table>\n",
              "            <tr>\n",
              "                <td><strong>Gene identifier</strong></td><td>b4025</td>\n",
              "            </tr><tr>\n",
              "                <td><strong>Name</strong></td><td>pgi</td>\n",
              "            </tr><tr>\n",
              "                <td><strong>Memory address</strong></td>\n",
              "                <td>0x07fd0d98707f0</td>\n",
              "            </tr><tr>\n",
              "                <td><strong>Functional</strong></td><td>True</td>\n",
              "            </tr><tr>\n",
              "                <td><strong>In 1 reaction(s)</strong></td><td>\n",
              "                    PGI</td>\n",
              "            </tr>\n",
              "        </table>"
            ],
            "text/plain": [
              "<Gene b4025 at 0x7fd0d98707f0>"
            ]
          },
          "metadata": {
            "tags": []
          },
          "execution_count": 26
        }
      ]
    },
    {
      "cell_type": "markdown",
      "metadata": {
        "id": "5I8z78jjMTl5",
        "colab_type": "text"
      },
      "source": [
        "Each gene keeps track of the reactions it catalyzes"
      ]
    },
    {
      "cell_type": "code",
      "metadata": {
        "id": "Fcl65157MTl6",
        "colab_type": "code",
        "colab": {
          "base_uri": "https://localhost:8080/",
          "height": 34
        },
        "outputId": "aa6eb567-6c43-40db-b09b-ac30b03f10dd"
      },
      "source": [
        "pgi_gene.reactions"
      ],
      "execution_count": 27,
      "outputs": [
        {
          "output_type": "execute_result",
          "data": {
            "text/plain": [
              "frozenset({<Reaction PGI at 0x7fd0d981f4e0>})"
            ]
          },
          "metadata": {
            "tags": []
          },
          "execution_count": 27
        }
      ]
    },
    {
      "cell_type": "markdown",
      "metadata": {
        "id": "QtTlnwfaMTl7",
        "colab_type": "text"
      },
      "source": [
        "Altering the gene_reaction_rule will create new gene objects if necessary and update all relationships."
      ]
    },
    {
      "cell_type": "code",
      "metadata": {
        "id": "URtc5wXwMTl8",
        "colab_type": "code",
        "colab": {
          "base_uri": "https://localhost:8080/",
          "height": 34
        },
        "outputId": "fd1c2b9a-f6da-4ad5-c7d5-1b3a018af89f"
      },
      "source": [
        "pgi.gene_reaction_rule = \"(spam or eggs)\"\n",
        "pgi.genes"
      ],
      "execution_count": 28,
      "outputs": [
        {
          "output_type": "execute_result",
          "data": {
            "text/plain": [
              "frozenset({<Gene eggs at 0x7fd0d9805518>, <Gene spam at 0x7fd0d9805c18>})"
            ]
          },
          "metadata": {
            "tags": []
          },
          "execution_count": 28
        }
      ]
    },
    {
      "cell_type": "code",
      "metadata": {
        "id": "BGKxlOhxMTl9",
        "colab_type": "code",
        "colab": {
          "base_uri": "https://localhost:8080/",
          "height": 34
        },
        "outputId": "7e62bba8-de19-42ea-bd4f-5b446783fac9"
      },
      "source": [
        "pgi_gene.reactions"
      ],
      "execution_count": 29,
      "outputs": [
        {
          "output_type": "execute_result",
          "data": {
            "text/plain": [
              "frozenset()"
            ]
          },
          "metadata": {
            "tags": []
          },
          "execution_count": 29
        }
      ]
    },
    {
      "cell_type": "markdown",
      "metadata": {
        "id": "fRM-M3F0MTl_",
        "colab_type": "text"
      },
      "source": [
        "Newly created genes are also added to the model"
      ]
    },
    {
      "cell_type": "code",
      "metadata": {
        "id": "mmca4BtSMTmA",
        "colab_type": "code",
        "colab": {
          "base_uri": "https://localhost:8080/",
          "height": 124
        },
        "outputId": "aa742106-455e-4a6d-86e7-72c3cfc40413"
      },
      "source": [
        "model.genes.get_by_id(\"spam\")"
      ],
      "execution_count": 30,
      "outputs": [
        {
          "output_type": "execute_result",
          "data": {
            "text/html": [
              "\n",
              "        <table>\n",
              "            <tr>\n",
              "                <td><strong>Gene identifier</strong></td><td>spam</td>\n",
              "            </tr><tr>\n",
              "                <td><strong>Name</strong></td><td></td>\n",
              "            </tr><tr>\n",
              "                <td><strong>Memory address</strong></td>\n",
              "                <td>0x07fd0d9805c18</td>\n",
              "            </tr><tr>\n",
              "                <td><strong>Functional</strong></td><td>True</td>\n",
              "            </tr><tr>\n",
              "                <td><strong>In 1 reaction(s)</strong></td><td>\n",
              "                    PGI</td>\n",
              "            </tr>\n",
              "        </table>"
            ],
            "text/plain": [
              "<Gene spam at 0x7fd0d9805c18>"
            ]
          },
          "metadata": {
            "tags": []
          },
          "execution_count": 30
        }
      ]
    },
    {
      "cell_type": "markdown",
      "metadata": {
        "id": "smmcD5z0MTmE",
        "colab_type": "text"
      },
      "source": [
        "The undelete_model_genes can be used to reset a gene deletion"
      ]
    },
    {
      "cell_type": "markdown",
      "metadata": {
        "id": "O1JttbwWzB3h",
        "colab_type": "text"
      },
      "source": [
        "#2) Building a model"
      ]
    },
    {
      "cell_type": "markdown",
      "metadata": {
        "deletable": true,
        "editable": true,
        "id": "ZtwpcWbEwlPd",
        "colab_type": "text"
      },
      "source": [
        "This simple example demonstrates how to create a model, create a reaction, and then add the reaction to the model.\n",
        "\n",
        "We'll use the '3OAS140' reaction from the STM_1.0 model:\n",
        "\n",
        "1.0 malACP[c] + 1.0 h[c] + 1.0 ddcaACP[c] $\\rightarrow$ 1.0 co2[c] + 1.0 ACP[c] + 1.0 3omrsACP[c]\n",
        "\n",
        "First, create the model and reaction."
      ]
    },
    {
      "cell_type": "code",
      "metadata": {
        "deletable": true,
        "editable": true,
        "id": "CCPJt9iwwlPl",
        "colab_type": "code",
        "colab": {}
      },
      "source": [
        "from cobra import Model, Reaction, Metabolite\n",
        "# Best practise: SBML compliant IDs\n",
        "model = Model('example_model')\n",
        "\n",
        "reaction = Reaction('3OAS140')\n",
        "reaction.name = '3 oxoacyl acyl carrier protein synthase n C140 '\n",
        "reaction.subsystem = 'Cell Envelope Biosynthesis'\n",
        "reaction.lower_bound = 0.  # This is the default\n",
        "reaction.upper_bound = 1000.  # This is the default"
      ],
      "execution_count": 0,
      "outputs": []
    },
    {
      "cell_type": "markdown",
      "metadata": {
        "deletable": true,
        "editable": true,
        "id": "Yj8-zsAXwlPp",
        "colab_type": "text"
      },
      "source": [
        "We need to create metabolites as well. If we were using an existing model, we could use `Model.get_by_id` to get the appropriate Metabolite objects instead."
      ]
    },
    {
      "cell_type": "code",
      "metadata": {
        "deletable": true,
        "editable": true,
        "id": "SSiTH6AwwlPp",
        "colab_type": "code",
        "colab": {}
      },
      "source": [
        "ACP_c = Metabolite(\n",
        "    'ACP_c',\n",
        "    formula='C11H21N2O7PRS',\n",
        "    name='acyl-carrier-protein',\n",
        "    compartment='c')\n",
        "omrsACP_c = Metabolite(\n",
        "    '3omrsACP_c',\n",
        "    formula='C25H45N2O9PRS',\n",
        "    name='3-Oxotetradecanoyl-acyl-carrier-protein',\n",
        "    compartment='c')\n",
        "co2_c = Metabolite('co2_c', formula='CO2', name='CO2', compartment='c')\n",
        "malACP_c = Metabolite(\n",
        "    'malACP_c',\n",
        "    formula='C14H22N2O10PRS',\n",
        "    name='Malonyl-acyl-carrier-protein',\n",
        "    compartment='c')\n",
        "h_c = Metabolite('h_c', formula='H', name='H', compartment='c')\n",
        "ddcaACP_c = Metabolite(\n",
        "    'ddcaACP_c',\n",
        "    formula='C23H43N2O8PRS',\n",
        "    name='Dodecanoyl-ACP-n-C120ACP',\n",
        "    compartment='c')"
      ],
      "execution_count": 0,
      "outputs": []
    },
    {
      "cell_type": "markdown",
      "metadata": {
        "deletable": true,
        "editable": true,
        "id": "c9yBaqqCwlPs",
        "colab_type": "text"
      },
      "source": [
        "Adding metabolites to a reaction requires using a dictionary of the metabolites and their stoichiometric coefficients. A group of metabolites can be added all at once, or they can be added one at a time."
      ]
    },
    {
      "cell_type": "code",
      "metadata": {
        "deletable": true,
        "editable": true,
        "id": "zoTFcaX7wlPs",
        "colab_type": "code",
        "outputId": "431c2f16-6093-4474-f98b-b729357a0edf",
        "colab": {
          "base_uri": "https://localhost:8080/",
          "height": 34
        }
      },
      "source": [
        "reaction.add_metabolites({\n",
        "    malACP_c: -1.0,\n",
        "    h_c: -1.0,\n",
        "    ddcaACP_c: -1.0,\n",
        "    co2_c: 1.0,\n",
        "    ACP_c: 1.0,\n",
        "    omrsACP_c: 1.0\n",
        "})\n",
        "\n",
        "reaction.reaction  # This gives a string representation of the reaction"
      ],
      "execution_count": 33,
      "outputs": [
        {
          "output_type": "execute_result",
          "data": {
            "text/plain": [
              "'ddcaACP_c + h_c + malACP_c --> 3omrsACP_c + ACP_c + co2_c'"
            ]
          },
          "metadata": {
            "tags": []
          },
          "execution_count": 33
        }
      ]
    },
    {
      "cell_type": "markdown",
      "metadata": {
        "deletable": true,
        "editable": true,
        "id": "YM1enBFBwlPx",
        "colab_type": "text"
      },
      "source": [
        "The gene_reaction_rule is a boolean representation of the gene requirements for this reaction to be active as described in [Schellenberger et al 2011 Nature Protocols 6(9):1290-307](http://dx.doi.org/doi:10.1038/nprot.2011.308). We will assign the gene reaction rule string, which will automatically create the corresponding gene objects."
      ]
    },
    {
      "cell_type": "code",
      "metadata": {
        "deletable": true,
        "editable": true,
        "id": "t35jgGp0wlPx",
        "colab_type": "code",
        "outputId": "df602d16-0116-440c-d0fd-8f3884b4c7a5",
        "colab": {
          "base_uri": "https://localhost:8080/",
          "height": 34
        }
      },
      "source": [
        "reaction.gene_reaction_rule = '( STM2378 or STM1197 )'\n",
        "reaction.genes"
      ],
      "execution_count": 34,
      "outputs": [
        {
          "output_type": "execute_result",
          "data": {
            "text/plain": [
              "frozenset({<Gene STM1197 at 0x7fd0d98050b8>, <Gene STM2378 at 0x7fd0d98054e0>})"
            ]
          },
          "metadata": {
            "tags": []
          },
          "execution_count": 34
        }
      ]
    },
    {
      "cell_type": "markdown",
      "metadata": {
        "deletable": true,
        "editable": true,
        "id": "HlSum54awlP0",
        "colab_type": "text"
      },
      "source": [
        "At this point in time, the model is still empty"
      ]
    },
    {
      "cell_type": "code",
      "metadata": {
        "deletable": true,
        "editable": true,
        "id": "po-qJdkKwlP0",
        "colab_type": "code",
        "outputId": "bf2d527c-aa77-4736-b4d7-127b8dcd7e75",
        "colab": {
          "base_uri": "https://localhost:8080/",
          "height": 68
        }
      },
      "source": [
        "print('%i reactions initially' % len(model.reactions))\n",
        "print('%i metabolites initially' % len(model.metabolites))\n",
        "print('%i genes initially' % len(model.genes))"
      ],
      "execution_count": 35,
      "outputs": [
        {
          "output_type": "stream",
          "text": [
            "0 reactions initially\n",
            "0 metabolites initially\n",
            "0 genes initially\n"
          ],
          "name": "stdout"
        }
      ]
    },
    {
      "cell_type": "markdown",
      "metadata": {
        "deletable": true,
        "editable": true,
        "id": "Vpp6z-1BwlP3",
        "colab_type": "text"
      },
      "source": [
        "We will add the reaction to the model, which will also add all associated metabolites and genes"
      ]
    },
    {
      "cell_type": "code",
      "metadata": {
        "deletable": true,
        "editable": true,
        "id": "jJgus8IowlP3",
        "colab_type": "code",
        "outputId": "2d9012e4-3dc9-4a9d-8069-0be96b1941fe",
        "colab": {
          "base_uri": "https://localhost:8080/",
          "height": 68
        }
      },
      "source": [
        "model.add_reactions([reaction])\n",
        "\n",
        "# Now there are things in the model\n",
        "print('%i reaction' % len(model.reactions))\n",
        "print('%i metabolites' % len(model.metabolites))\n",
        "print('%i genes' % len(model.genes))"
      ],
      "execution_count": 36,
      "outputs": [
        {
          "output_type": "stream",
          "text": [
            "1 reaction\n",
            "6 metabolites\n",
            "2 genes\n"
          ],
          "name": "stdout"
        }
      ]
    },
    {
      "cell_type": "markdown",
      "metadata": {
        "deletable": true,
        "editable": true,
        "id": "_2AvqxG2wlP6",
        "colab_type": "text"
      },
      "source": [
        "We can iterate through the model objects to observe the contents"
      ]
    },
    {
      "cell_type": "code",
      "metadata": {
        "deletable": true,
        "editable": true,
        "id": "i5mSxLXRwlP6",
        "colab_type": "code",
        "outputId": "2227268f-78c5-46c4-a20f-72bce08397f4",
        "colab": {
          "base_uri": "https://localhost:8080/",
          "height": 306
        }
      },
      "source": [
        "# Iterate through the the objects in the model\n",
        "print(\"Reactions\")\n",
        "print(\"---------\")\n",
        "for x in model.reactions:\n",
        "    print(\"%s : %s\" % (x.id, x.reaction))\n",
        "\n",
        "print(\"\")\n",
        "print(\"Metabolites\")\n",
        "print(\"-----------\")\n",
        "for x in model.metabolites:\n",
        "    print('%9s : %s' % (x.id, x.formula))\n",
        "\n",
        "print(\"\")\n",
        "print(\"Genes\")\n",
        "print(\"-----\")\n",
        "for x in model.genes:\n",
        "    associated_ids = (i.id for i in x.reactions)\n",
        "    print(\"%s is associated with reactions: %s\" %\n",
        "          (x.id, \"{\" + \", \".join(associated_ids) + \"}\"))"
      ],
      "execution_count": 37,
      "outputs": [
        {
          "output_type": "stream",
          "text": [
            "Reactions\n",
            "---------\n",
            "3OAS140 : ddcaACP_c + h_c + malACP_c --> 3omrsACP_c + ACP_c + co2_c\n",
            "\n",
            "Metabolites\n",
            "-----------\n",
            " malACP_c : C14H22N2O10PRS\n",
            "      h_c : H\n",
            "ddcaACP_c : C23H43N2O8PRS\n",
            "    co2_c : CO2\n",
            "    ACP_c : C11H21N2O7PRS\n",
            "3omrsACP_c : C25H45N2O9PRS\n",
            "\n",
            "Genes\n",
            "-----\n",
            "STM1197 is associated with reactions: {3OAS140}\n",
            "STM2378 is associated with reactions: {3OAS140}\n"
          ],
          "name": "stdout"
        }
      ]
    },
    {
      "cell_type": "markdown",
      "metadata": {
        "deletable": true,
        "editable": true,
        "id": "GDXzXGEvwlP8",
        "colab_type": "text"
      },
      "source": [
        "Last we need to set the objective of the model. Here, we just want this to be the maximization of the flux in the single reaction we added and we do this by assigning the reaction's identifier to the `objective` property of the model."
      ]
    },
    {
      "cell_type": "code",
      "metadata": {
        "deletable": true,
        "editable": true,
        "id": "U-FTNQKSwlP8",
        "colab_type": "code",
        "colab": {}
      },
      "source": [
        "model.objective = '3OAS140'"
      ],
      "execution_count": 0,
      "outputs": []
    },
    {
      "cell_type": "markdown",
      "metadata": {
        "deletable": true,
        "editable": true,
        "id": "yFM6KRu2wlP-",
        "colab_type": "text"
      },
      "source": [
        "The created objective is a symbolic algebraic expression and we can examine it by printing it"
      ]
    },
    {
      "cell_type": "code",
      "metadata": {
        "deletable": true,
        "editable": true,
        "id": "65kzaAFawlP-",
        "colab_type": "code",
        "outputId": "9c1ab8ed-5ed5-449a-ffb0-6f0ee732f417",
        "colab": {
          "base_uri": "https://localhost:8080/",
          "height": 51
        }
      },
      "source": [
        "print(model.objective.expression)\n",
        "print(model.objective.direction)"
      ],
      "execution_count": 39,
      "outputs": [
        {
          "output_type": "stream",
          "text": [
            "1.0*3OAS140 - 1.0*3OAS140_reverse_65ddc\n",
            "max\n"
          ],
          "name": "stdout"
        }
      ]
    },
    {
      "cell_type": "markdown",
      "metadata": {
        "deletable": true,
        "editable": true,
        "id": "0ytbPRx9wlQA",
        "colab_type": "text"
      },
      "source": [
        "which here shows that the solver will maximize the flux in the forward direction."
      ]
    },
    {
      "cell_type": "markdown",
      "metadata": {
        "id": "mAjL-9-sztR4",
        "colab_type": "text"
      },
      "source": [
        "#3) Simulating"
      ]
    },
    {
      "cell_type": "markdown",
      "metadata": {
        "id": "zo-Wjq5h4KIQ",
        "colab_type": "text"
      },
      "source": [
        "Simulations using flux balance analysis can be solved using `Model.optimize()`. This will maximize or minimize (maximizing is the default) flux through the objective reactions."
      ]
    },
    {
      "cell_type": "markdown",
      "metadata": {
        "id": "IG472fYO0Els",
        "colab_type": "text"
      },
      "source": [
        "##3.1) Running FBA\n"
      ]
    },
    {
      "cell_type": "markdown",
      "metadata": {
        "id": "ZMIBXccL5e0t",
        "colab_type": "text"
      },
      "source": [
        "Get the objective of a model"
      ]
    },
    {
      "cell_type": "code",
      "metadata": {
        "id": "LAEe1GZF1gNr",
        "colab_type": "code",
        "colab": {}
      },
      "source": [
        "model = cobra.test.create_test_model(\"textbook\")"
      ],
      "execution_count": 0,
      "outputs": []
    },
    {
      "cell_type": "code",
      "metadata": {
        "id": "sB1D-D4846-M",
        "colab_type": "code",
        "outputId": "6705d0ae-ed0f-49e1-cf6a-c70acdf89109",
        "colab": {
          "base_uri": "https://localhost:8080/",
          "height": 51
        }
      },
      "source": [
        "print(model.objective)"
      ],
      "execution_count": 41,
      "outputs": [
        {
          "output_type": "stream",
          "text": [
            "Maximize\n",
            "1.0*Biomass_Ecoli_core - 1.0*Biomass_Ecoli_core_reverse_2cdba\n"
          ],
          "name": "stdout"
        }
      ]
    },
    {
      "cell_type": "code",
      "metadata": {
        "id": "z3pl-qUc5FS9",
        "colab_type": "code",
        "outputId": "82cd2c67-3ab7-402f-a04c-fff9c68dbfa1",
        "colab": {
          "base_uri": "https://localhost:8080/",
          "height": 252
        }
      },
      "source": [
        "biomass_rxn = model.reactions.get_by_id('Biomass_Ecoli_core')\n",
        "biomass_rxn"
      ],
      "execution_count": 42,
      "outputs": [
        {
          "output_type": "execute_result",
          "data": {
            "text/html": [
              "\n",
              "        <table>\n",
              "            <tr>\n",
              "                <td><strong>Reaction identifier</strong></td><td>Biomass_Ecoli_core</td>\n",
              "            </tr><tr>\n",
              "                <td><strong>Name</strong></td><td>Biomass Objective Function with GAM</td>\n",
              "            </tr><tr>\n",
              "                <td><strong>Memory address</strong></td>\n",
              "                <td>0x07fd0d9743550</td>\n",
              "            </tr><tr>\n",
              "                <td><strong>Stoichiometry</strong></td>\n",
              "                <td>\n",
              "                    <p style='text-align:right'>1.496 3pg_c + 3.7478 accoa_c + 59.81 atp_c + 0.361 e4p_c + 0.0709 f6p_c + 0.129 g3p_c + 0.205 g6p_c + 0.2557 gln__L_c + 4.9414 glu__L_c + 59.81 h2o_c + 3.547 nad_c + 13.0279 nadph_c + 1.7867 oaa_c ...</p>\n",
              "                    <p style='text-align:right'>1.496 3-Phospho-D-glycerate + 3.7478 Acetyl-CoA + 59.81 ATP + 0.361 D-Erythrose 4-phosphate + 0.0709 D-Fructose 6-phosphate + 0.129 Glyceraldehyde 3-phosphate + 0.205 D-Glucose 6-phosphate + 0.2557...</p>\n",
              "                </td>\n",
              "            </tr><tr>\n",
              "                <td><strong>GPR</strong></td><td></td>\n",
              "            </tr><tr>\n",
              "                <td><strong>Lower bound</strong></td><td>0.0</td>\n",
              "            </tr><tr>\n",
              "                <td><strong>Upper bound</strong></td><td>1000.0</td>\n",
              "            </tr>\n",
              "        </table>\n",
              "        "
            ],
            "text/plain": [
              "<Reaction Biomass_Ecoli_core at 0x7fd0d9743550>"
            ]
          },
          "metadata": {
            "tags": []
          },
          "execution_count": 42
        }
      ]
    },
    {
      "cell_type": "code",
      "metadata": {
        "id": "_6fQk_fQGPK6",
        "colab_type": "code",
        "colab": {}
      },
      "source": [
        "biomass_rxn.id = 'BIOMASS_Ecoli_core_w_GAM'"
      ],
      "execution_count": 0,
      "outputs": []
    },
    {
      "cell_type": "code",
      "metadata": {
        "id": "HNfBOjis4KIY",
        "colab_type": "code",
        "outputId": "db7c7d2e-8e6f-4921-d366-111141e67ac4",
        "colab": {
          "base_uri": "https://localhost:8080/",
          "height": 34
        }
      },
      "source": [
        "solution = model.optimize()\n",
        "print(solution)"
      ],
      "execution_count": 44,
      "outputs": [
        {
          "output_type": "stream",
          "text": [
            "<Solution 0.874 at 0x7fd0d96b2978>\n"
          ],
          "name": "stdout"
        }
      ]
    },
    {
      "cell_type": "markdown",
      "metadata": {
        "id": "QfPUfeaY4KIc",
        "colab_type": "text"
      },
      "source": [
        "The Model.optimize() function will return a Solution object. A solution object has several attributes:\n",
        "\n",
        " - `objective_value`: the objective value\n",
        " - `status`: the status from the linear programming solver\n",
        " - `fluxes`: a pandas series with flux indexed by reaction identifier. The flux for a reaction variable is the difference of the primal values for the forward and reverse reaction variables. (More about [Pandas Series and Dataframes](https://pandas.pydata.org))\n",
        " - `shadow_prices`: a pandas series with shadow price indexed by the metabolite identifier."
      ]
    },
    {
      "cell_type": "markdown",
      "metadata": {
        "id": "YTwtadbC4KId",
        "colab_type": "text"
      },
      "source": [
        "For example, after the last call to `model.optimize()`, if the optimization succeeds it's status will be optimal. In case the model is infeasible an error is raised."
      ]
    },
    {
      "cell_type": "code",
      "metadata": {
        "id": "ESoJGN5Z4KIe",
        "colab_type": "code",
        "outputId": "fa8875d1-83e1-41c1-8113-40caabeee2d1",
        "colab": {
          "base_uri": "https://localhost:8080/",
          "height": 34
        }
      },
      "source": [
        "solution.objective_value"
      ],
      "execution_count": 45,
      "outputs": [
        {
          "output_type": "execute_result",
          "data": {
            "text/plain": [
              "0.8739215069684307"
            ]
          },
          "metadata": {
            "tags": []
          },
          "execution_count": 45
        }
      ]
    },
    {
      "cell_type": "markdown",
      "metadata": {
        "id": "UzyDSzoq5lKx",
        "colab_type": "text"
      },
      "source": [
        "Get flux distribution of the current solution:"
      ]
    },
    {
      "cell_type": "code",
      "metadata": {
        "id": "wNO1Tlu75dcd",
        "colab_type": "code",
        "outputId": "409f4a03-c0c9-4775-afcd-64bd4d2cf825",
        "colab": {
          "base_uri": "https://localhost:8080/",
          "height": 221
        }
      },
      "source": [
        "solution.fluxes"
      ],
      "execution_count": 46,
      "outputs": [
        {
          "output_type": "execute_result",
          "data": {
            "text/plain": [
              "ACALD     0.000000\n",
              "ACALDt    0.000000\n",
              "ACKr      0.000000\n",
              "ACONTa    6.007250\n",
              "ACONTb    6.007250\n",
              "            ...   \n",
              "TALA      1.496984\n",
              "THD2      0.000000\n",
              "TKT1      1.496984\n",
              "TKT2      1.181498\n",
              "TPI       7.477382\n",
              "Name: fluxes, Length: 95, dtype: float64"
            ]
          },
          "metadata": {
            "tags": []
          },
          "execution_count": 46
        }
      ]
    },
    {
      "cell_type": "markdown",
      "metadata": {
        "id": "TDGa-klY4KIl",
        "colab_type": "text"
      },
      "source": [
        "###3.1.1) Analyzing FBA solutions"
      ]
    },
    {
      "cell_type": "markdown",
      "metadata": {
        "id": "HEIsWdMj4KIl",
        "colab_type": "text"
      },
      "source": [
        "Models solved using FBA can be further analyzed by using summary methods, which output printed text to give a quick representation of model behavior. Calling the summary method on the entire model displays information on the input and output behavior of the model, along with the optimized objective."
      ]
    },
    {
      "cell_type": "code",
      "metadata": {
        "id": "z-Gx5L_E4KIm",
        "colab_type": "code",
        "outputId": "02469450-9ea1-40b4-dd87-bc2701d6a1ee",
        "colab": {
          "base_uri": "https://localhost:8080/",
          "height": 204
        }
      },
      "source": [
        "model.summary()"
      ],
      "execution_count": 47,
      "outputs": [
        {
          "output_type": "execute_result",
          "data": {
            "text/html": [
              "<div>\n",
              "<style scoped>\n",
              "    .dataframe tbody tr th:only-of-type {\n",
              "        vertical-align: middle;\n",
              "    }\n",
              "\n",
              "    .dataframe tbody tr th {\n",
              "        vertical-align: top;\n",
              "    }\n",
              "\n",
              "    .dataframe thead tr th {\n",
              "        text-align: left;\n",
              "    }\n",
              "</style>\n",
              "<table border=\"1\" class=\"dataframe\">\n",
              "  <thead>\n",
              "    <tr>\n",
              "      <th></th>\n",
              "      <th colspan=\"2\" halign=\"left\">IN_FLUXES</th>\n",
              "      <th colspan=\"2\" halign=\"left\">OUT_FLUXES</th>\n",
              "      <th colspan=\"2\" halign=\"left\">OBJECTIVES</th>\n",
              "    </tr>\n",
              "    <tr>\n",
              "      <th></th>\n",
              "      <th>ID</th>\n",
              "      <th>FLUX</th>\n",
              "      <th>ID</th>\n",
              "      <th>FLUX</th>\n",
              "      <th>ID</th>\n",
              "      <th>FLUX</th>\n",
              "    </tr>\n",
              "  </thead>\n",
              "  <tbody>\n",
              "    <tr>\n",
              "      <th>0</th>\n",
              "      <td>o2_e</td>\n",
              "      <td>21.799493</td>\n",
              "      <td>h2o_e</td>\n",
              "      <td>29.175827</td>\n",
              "      <td>BIOMASS_Ecoli_core_w_GAM</td>\n",
              "      <td>0.873922</td>\n",
              "    </tr>\n",
              "    <tr>\n",
              "      <th>1</th>\n",
              "      <td>glc__D_e</td>\n",
              "      <td>10.000000</td>\n",
              "      <td>co2_e</td>\n",
              "      <td>22.809833</td>\n",
              "      <td>NaN</td>\n",
              "      <td>NaN</td>\n",
              "    </tr>\n",
              "    <tr>\n",
              "      <th>2</th>\n",
              "      <td>nh4_e</td>\n",
              "      <td>4.765319</td>\n",
              "      <td>h_e</td>\n",
              "      <td>17.530865</td>\n",
              "      <td>NaN</td>\n",
              "      <td>NaN</td>\n",
              "    </tr>\n",
              "    <tr>\n",
              "      <th>3</th>\n",
              "      <td>pi_e</td>\n",
              "      <td>3.214895</td>\n",
              "      <td>NaN</td>\n",
              "      <td>NaN</td>\n",
              "      <td>NaN</td>\n",
              "      <td>NaN</td>\n",
              "    </tr>\n",
              "  </tbody>\n",
              "</table>\n",
              "</div>"
            ],
            "text/plain": [
              "<cobra.core.summary.model_summary.ModelSummary at 0x7fd0d9858be0>"
            ]
          },
          "metadata": {
            "tags": []
          },
          "execution_count": 47
        }
      ]
    },
    {
      "cell_type": "markdown",
      "metadata": {
        "id": "5qzl9mtb4KIo",
        "colab_type": "text"
      },
      "source": [
        "In addition, the input-output behavior of individual metabolites can also be inspected using summary methods. For instance, the following commands can be used to examine the overall redox balance of the model"
      ]
    },
    {
      "cell_type": "code",
      "metadata": {
        "id": "UBHrMTer4KIo",
        "colab_type": "code",
        "outputId": "47cdaca9-125c-4824-aca2-8e799207c494",
        "colab": {
          "base_uri": "https://localhost:8080/",
          "height": 266
        }
      },
      "source": [
        "model.metabolites.nadh_c.summary()"
      ],
      "execution_count": 48,
      "outputs": [
        {
          "output_type": "execute_result",
          "data": {
            "text/html": [
              "<div>\n",
              "<style scoped>\n",
              "    .dataframe tbody tr th:only-of-type {\n",
              "        vertical-align: middle;\n",
              "    }\n",
              "\n",
              "    .dataframe tbody tr th {\n",
              "        vertical-align: top;\n",
              "    }\n",
              "\n",
              "    .dataframe thead th {\n",
              "        text-align: right;\n",
              "    }\n",
              "</style>\n",
              "<table border=\"1\" class=\"dataframe\">\n",
              "  <thead>\n",
              "    <tr style=\"text-align: right;\">\n",
              "      <th></th>\n",
              "      <th></th>\n",
              "      <th>PERCENT</th>\n",
              "      <th>FLUX</th>\n",
              "      <th>REACTION_STRING</th>\n",
              "    </tr>\n",
              "    <tr>\n",
              "      <th>RXN_STAT</th>\n",
              "      <th>ID</th>\n",
              "      <th></th>\n",
              "      <th></th>\n",
              "      <th></th>\n",
              "    </tr>\n",
              "  </thead>\n",
              "  <tbody>\n",
              "    <tr>\n",
              "      <th rowspan=\"5\" valign=\"top\">PRODUCING</th>\n",
              "      <th>GAPD</th>\n",
              "      <td>41.582168</td>\n",
              "      <td>16.023526</td>\n",
              "      <td>g3p_c + nad_c + pi_c &lt;=&gt; 13dpg_c + h_c + nadh_c</td>\n",
              "    </tr>\n",
              "    <tr>\n",
              "      <th>PDH</th>\n",
              "      <td>24.088820</td>\n",
              "      <td>9.282533</td>\n",
              "      <td>coa_c + nad_c + pyr_c --&gt; accoa_c + co2_c + na...</td>\n",
              "    </tr>\n",
              "    <tr>\n",
              "      <th>AKGDH</th>\n",
              "      <td>13.142408</td>\n",
              "      <td>5.064376</td>\n",
              "      <td>akg_c + coa_c + nad_c --&gt; co2_c + nadh_c + suc...</td>\n",
              "    </tr>\n",
              "    <tr>\n",
              "      <th>MDH</th>\n",
              "      <td>13.142408</td>\n",
              "      <td>5.064376</td>\n",
              "      <td>mal__L_c + nad_c &lt;=&gt; h_c + nadh_c + oaa_c</td>\n",
              "    </tr>\n",
              "    <tr>\n",
              "      <th>BIOMASS_Ecoli_core_w_GAM</th>\n",
              "      <td>8.044196</td>\n",
              "      <td>3.099800</td>\n",
              "      <td>1.496 3pg_c + 3.7478 accoa_c + 59.81 atp_c + 0...</td>\n",
              "    </tr>\n",
              "    <tr>\n",
              "      <th>CONSUMING</th>\n",
              "      <th>NADH16</th>\n",
              "      <td>100.000000</td>\n",
              "      <td>38.534610</td>\n",
              "      <td>4.0 h_c + nadh_c + q8_c --&gt; 3.0 h_e + nad_c + ...</td>\n",
              "    </tr>\n",
              "  </tbody>\n",
              "</table>\n",
              "</div>"
            ],
            "text/plain": [
              "<cobra.core.summary.metabolite_summary.MetaboliteSummary at 0x7fd0d96b2cc0>"
            ]
          },
          "metadata": {
            "tags": []
          },
          "execution_count": 48
        }
      ]
    },
    {
      "cell_type": "markdown",
      "metadata": {
        "id": "X-cuV1jF4KIq",
        "colab_type": "text"
      },
      "source": [
        "Or to get a sense of the main energy production and consumption reactions"
      ]
    },
    {
      "cell_type": "code",
      "metadata": {
        "id": "JexdtdrP4KIq",
        "colab_type": "code",
        "outputId": "871e7f39-38e6-4cdf-99cd-827721ee3485",
        "colab": {
          "base_uri": "https://localhost:8080/",
          "height": 297
        }
      },
      "source": [
        "model.metabolites.atp_c.summary()"
      ],
      "execution_count": 49,
      "outputs": [
        {
          "output_type": "execute_result",
          "data": {
            "text/html": [
              "<div>\n",
              "<style scoped>\n",
              "    .dataframe tbody tr th:only-of-type {\n",
              "        vertical-align: middle;\n",
              "    }\n",
              "\n",
              "    .dataframe tbody tr th {\n",
              "        vertical-align: top;\n",
              "    }\n",
              "\n",
              "    .dataframe thead th {\n",
              "        text-align: right;\n",
              "    }\n",
              "</style>\n",
              "<table border=\"1\" class=\"dataframe\">\n",
              "  <thead>\n",
              "    <tr style=\"text-align: right;\">\n",
              "      <th></th>\n",
              "      <th></th>\n",
              "      <th>PERCENT</th>\n",
              "      <th>FLUX</th>\n",
              "      <th>REACTION_STRING</th>\n",
              "    </tr>\n",
              "    <tr>\n",
              "      <th>RXN_STAT</th>\n",
              "      <th>ID</th>\n",
              "      <th></th>\n",
              "      <th></th>\n",
              "      <th></th>\n",
              "    </tr>\n",
              "  </thead>\n",
              "  <tbody>\n",
              "    <tr>\n",
              "      <th rowspan=\"4\" valign=\"top\">PRODUCING</th>\n",
              "      <th>ATPS4r</th>\n",
              "      <td>66.579799</td>\n",
              "      <td>45.514010</td>\n",
              "      <td>adp_c + 4.0 h_e + pi_c &lt;=&gt; atp_c + h2o_c + 3.0...</td>\n",
              "    </tr>\n",
              "    <tr>\n",
              "      <th>PGK</th>\n",
              "      <td>23.439885</td>\n",
              "      <td>16.023526</td>\n",
              "      <td>3pg_c + atp_c &lt;=&gt; 13dpg_c + adp_c</td>\n",
              "    </tr>\n",
              "    <tr>\n",
              "      <th>SUCOAS</th>\n",
              "      <td>7.408381</td>\n",
              "      <td>5.064376</td>\n",
              "      <td>atp_c + coa_c + succ_c &lt;=&gt; adp_c + pi_c + succ...</td>\n",
              "    </tr>\n",
              "    <tr>\n",
              "      <th>PYK</th>\n",
              "      <td>2.571936</td>\n",
              "      <td>1.758177</td>\n",
              "      <td>adp_c + h_c + pep_c --&gt; atp_c + pyr_c</td>\n",
              "    </tr>\n",
              "    <tr>\n",
              "      <th rowspan=\"3\" valign=\"top\">CONSUMING</th>\n",
              "      <th>BIOMASS_Ecoli_core_w_GAM</th>\n",
              "      <td>76.461640</td>\n",
              "      <td>52.269245</td>\n",
              "      <td>1.496 3pg_c + 3.7478 accoa_c + 59.81 atp_c + 0...</td>\n",
              "    </tr>\n",
              "    <tr>\n",
              "      <th>ATPM</th>\n",
              "      <td>12.273243</td>\n",
              "      <td>8.390000</td>\n",
              "      <td>atp_c + h2o_c --&gt; adp_c + h_c + pi_c</td>\n",
              "    </tr>\n",
              "    <tr>\n",
              "      <th>PFK</th>\n",
              "      <td>10.938227</td>\n",
              "      <td>7.477382</td>\n",
              "      <td>atp_c + f6p_c --&gt; adp_c + fdp_c + h_c</td>\n",
              "    </tr>\n",
              "  </tbody>\n",
              "</table>\n",
              "</div>"
            ],
            "text/plain": [
              "<cobra.core.summary.metabolite_summary.MetaboliteSummary at 0x7fd0d9721940>"
            ]
          },
          "metadata": {
            "tags": []
          },
          "execution_count": 49
        }
      ]
    },
    {
      "cell_type": "markdown",
      "metadata": {
        "id": "mmPe4exT6zPy",
        "colab_type": "text"
      },
      "source": [
        "###3.1.2) Visualizing FBA solutions with Escher Maps\n",
        "\n"
      ]
    },
    {
      "cell_type": "markdown",
      "metadata": {
        "id": "kUoWy5WyA2zI",
        "colab_type": "text"
      },
      "source": [
        "Create a directory for results and save flux solution in a json file."
      ]
    },
    {
      "cell_type": "code",
      "metadata": {
        "id": "AAo7r2Ha6ztT",
        "colab_type": "code",
        "colab": {}
      },
      "source": [
        "import os\n",
        "from google.colab import files\n",
        "\n",
        "directory = \"results\"\n",
        "if not os.path.exists(directory):\n",
        "    os.makedirs(directory)\n",
        "       \n",
        "solution.fluxes.to_json('results/flux_1.json')\n",
        "#files.download('results/flux_1.json')"
      ],
      "execution_count": 0,
      "outputs": []
    },
    {
      "cell_type": "markdown",
      "metadata": {
        "id": "eMT1IIpVC6bB",
        "colab_type": "text"
      },
      "source": [
        "To view the flux solution on a map:\n",
        "\n",
        "\n",
        "\n",
        "1.   Go to [Escher Maps](https://escher.github.io)\n",
        "2.   Choose *Escherichia Coli* as organism, *Core metabolism (e_coli_core)* as map, *e_coli_core* as model and *Viewer* as Tool\n",
        "3.   Press *Load map*\n",
        "4.  You will be redirected to the metabolic map of E.coli\n",
        "5. To map your flux solution, go to the *Menu > Data > Load reaction data* and choose the* json file*, you just downloaded\n",
        "6. Check the visualisation to your likings, go to *Menu > View > Settings*\n",
        "\n",
        "\n"
      ]
    },
    {
      "cell_type": "markdown",
      "metadata": {
        "id": "EZ15pUeM4KIs",
        "colab_type": "text"
      },
      "source": [
        "###3.1.3) Changing the Objectives"
      ]
    },
    {
      "cell_type": "markdown",
      "metadata": {
        "id": "M5i6bwub4KIs",
        "colab_type": "text"
      },
      "source": [
        "The objective function is determined from the objective_coefficient attribute of the objective reaction(s). Generally, a \"biomass\" function which describes the composition of metabolites which make up a cell is used."
      ]
    },
    {
      "cell_type": "code",
      "metadata": {
        "id": "NuI5Da2X4KIs",
        "colab_type": "code",
        "outputId": "9b50bb49-6682-435a-9d63-35eee24e8432",
        "colab": {
          "base_uri": "https://localhost:8080/",
          "height": 252
        }
      },
      "source": [
        "biomass_rxn"
      ],
      "execution_count": 51,
      "outputs": [
        {
          "output_type": "execute_result",
          "data": {
            "text/html": [
              "\n",
              "        <table>\n",
              "            <tr>\n",
              "                <td><strong>Reaction identifier</strong></td><td>BIOMASS_Ecoli_core_w_GAM</td>\n",
              "            </tr><tr>\n",
              "                <td><strong>Name</strong></td><td>Biomass Objective Function with GAM</td>\n",
              "            </tr><tr>\n",
              "                <td><strong>Memory address</strong></td>\n",
              "                <td>0x07fd0d9743550</td>\n",
              "            </tr><tr>\n",
              "                <td><strong>Stoichiometry</strong></td>\n",
              "                <td>\n",
              "                    <p style='text-align:right'>1.496 3pg_c + 3.7478 accoa_c + 59.81 atp_c + 0.361 e4p_c + 0.0709 f6p_c + 0.129 g3p_c + 0.205 g6p_c + 0.2557 gln__L_c + 4.9414 glu__L_c + 59.81 h2o_c + 3.547 nad_c + 13.0279 nadph_c + 1.7867 oaa_c ...</p>\n",
              "                    <p style='text-align:right'>1.496 3-Phospho-D-glycerate + 3.7478 Acetyl-CoA + 59.81 ATP + 0.361 D-Erythrose 4-phosphate + 0.0709 D-Fructose 6-phosphate + 0.129 Glyceraldehyde 3-phosphate + 0.205 D-Glucose 6-phosphate + 0.2557...</p>\n",
              "                </td>\n",
              "            </tr><tr>\n",
              "                <td><strong>GPR</strong></td><td></td>\n",
              "            </tr><tr>\n",
              "                <td><strong>Lower bound</strong></td><td>0.0</td>\n",
              "            </tr><tr>\n",
              "                <td><strong>Upper bound</strong></td><td>1000.0</td>\n",
              "            </tr>\n",
              "        </table>\n",
              "        "
            ],
            "text/plain": [
              "<Reaction BIOMASS_Ecoli_core_w_GAM at 0x7fd0d9743550>"
            ]
          },
          "metadata": {
            "tags": []
          },
          "execution_count": 51
        }
      ]
    },
    {
      "cell_type": "markdown",
      "metadata": {
        "id": "p5AxXlLX4KIv",
        "colab_type": "text"
      },
      "source": [
        "The objective function can be changed by assigning Model.objective, which can be a reaction object (or just it's name), or a `dict` of `{Reaction: objective_coefficient}`."
      ]
    },
    {
      "cell_type": "code",
      "metadata": {
        "id": "ckwn4ZwnIADQ",
        "colab_type": "code",
        "outputId": "cbf03152-edfd-492e-dc47-6d34f298e617",
        "colab": {
          "base_uri": "https://localhost:8080/",
          "height": 201
        }
      },
      "source": [
        "ATPM_rxn = model.reactions.get_by_id(\"ATPM\")\n",
        "ATPM_rxn"
      ],
      "execution_count": 52,
      "outputs": [
        {
          "output_type": "execute_result",
          "data": {
            "text/html": [
              "\n",
              "        <table>\n",
              "            <tr>\n",
              "                <td><strong>Reaction identifier</strong></td><td>ATPM</td>\n",
              "            </tr><tr>\n",
              "                <td><strong>Name</strong></td><td>ATP maintenance requirement</td>\n",
              "            </tr><tr>\n",
              "                <td><strong>Memory address</strong></td>\n",
              "                <td>0x07fd0d97430f0</td>\n",
              "            </tr><tr>\n",
              "                <td><strong>Stoichiometry</strong></td>\n",
              "                <td>\n",
              "                    <p style='text-align:right'>atp_c + h2o_c --> adp_c + h_c + pi_c</p>\n",
              "                    <p style='text-align:right'>ATP + H2O --> ADP + H+ + Phosphate</p>\n",
              "                </td>\n",
              "            </tr><tr>\n",
              "                <td><strong>GPR</strong></td><td></td>\n",
              "            </tr><tr>\n",
              "                <td><strong>Lower bound</strong></td><td>8.39</td>\n",
              "            </tr><tr>\n",
              "                <td><strong>Upper bound</strong></td><td>1000.0</td>\n",
              "            </tr>\n",
              "        </table>\n",
              "        "
            ],
            "text/plain": [
              "<Reaction ATPM at 0x7fd0d97430f0>"
            ]
          },
          "metadata": {
            "tags": []
          },
          "execution_count": 52
        }
      ]
    },
    {
      "cell_type": "code",
      "metadata": {
        "id": "TF7hxk4g4KIv",
        "colab_type": "code",
        "colab": {}
      },
      "source": [
        "# change the objective to ATPM\n",
        "model.objective = \"ATPM\""
      ],
      "execution_count": 0,
      "outputs": []
    },
    {
      "cell_type": "code",
      "metadata": {
        "id": "Ah9ANhc44KIx",
        "colab_type": "code",
        "outputId": "0b4d33d5-0510-4a4a-b3fc-ee8da7423a8e",
        "colab": {
          "base_uri": "https://localhost:8080/",
          "height": 34
        }
      },
      "source": [
        "solution = model.optimize()\n",
        "solution.objective_value"
      ],
      "execution_count": 54,
      "outputs": [
        {
          "output_type": "execute_result",
          "data": {
            "text/plain": [
              "174.99999999999966"
            ]
          },
          "metadata": {
            "tags": []
          },
          "execution_count": 54
        }
      ]
    },
    {
      "cell_type": "code",
      "metadata": {
        "id": "xBPf7uNTI2A1",
        "colab_type": "code",
        "colab": {}
      },
      "source": [
        "solution.fluxes.to_json('results/flux_2.json')\n",
        "#files.download('results/flux_2.json')"
      ],
      "execution_count": 0,
      "outputs": []
    },
    {
      "cell_type": "markdown",
      "metadata": {
        "id": "AHEvVsCr4KIy",
        "colab_type": "text"
      },
      "source": [
        "\n",
        "Go to again to [Escher Maps](https://escher.github.io) and load the flux solution."
      ]
    },
    {
      "cell_type": "markdown",
      "metadata": {
        "id": "ZC9DySwzVGK2",
        "colab_type": "text"
      },
      "source": [
        "So far, we always searched for the maximum:"
      ]
    },
    {
      "cell_type": "code",
      "metadata": {
        "id": "zK46TL72UyRT",
        "colab_type": "code",
        "outputId": "6116d9d3-ac43-45d6-dd9e-5fa9b5739b6b",
        "colab": {
          "base_uri": "https://localhost:8080/",
          "height": 34
        }
      },
      "source": [
        "model.objective_direction"
      ],
      "execution_count": 56,
      "outputs": [
        {
          "output_type": "execute_result",
          "data": {
            "text/plain": [
              "'max'"
            ]
          },
          "metadata": {
            "tags": []
          },
          "execution_count": 56
        }
      ]
    },
    {
      "cell_type": "markdown",
      "metadata": {
        "id": "tgmpYe8fVWkD",
        "colab_type": "text"
      },
      "source": [
        "but as for maintenace in terms of ATP minimisation might make more sense. You can simple set it like this:"
      ]
    },
    {
      "cell_type": "code",
      "metadata": {
        "id": "ZNIixAJRU6UR",
        "colab_type": "code",
        "outputId": "c5a87dea-7886-48c0-fa7b-c18dcc5dd98a",
        "colab": {
          "base_uri": "https://localhost:8080/",
          "height": 34
        }
      },
      "source": [
        "model.objective_direction = 'min'\n",
        "model.objective_direction"
      ],
      "execution_count": 57,
      "outputs": [
        {
          "output_type": "execute_result",
          "data": {
            "text/plain": [
              "'min'"
            ]
          },
          "metadata": {
            "tags": []
          },
          "execution_count": 57
        }
      ]
    },
    {
      "cell_type": "code",
      "metadata": {
        "id": "tG6Ojp8YU_s_",
        "colab_type": "code",
        "outputId": "243fdf19-c186-4be0-a1fb-ef84bd003d97",
        "colab": {
          "base_uri": "https://localhost:8080/",
          "height": 34
        }
      },
      "source": [
        "solution = model.optimize()\n",
        "solution.objective_value"
      ],
      "execution_count": 58,
      "outputs": [
        {
          "output_type": "execute_result",
          "data": {
            "text/plain": [
              "8.39"
            ]
          },
          "metadata": {
            "tags": []
          },
          "execution_count": 58
        }
      ]
    },
    {
      "cell_type": "code",
      "metadata": {
        "id": "Ey0RR8MpVBfj",
        "colab_type": "code",
        "colab": {}
      },
      "source": [
        "solution.fluxes.to_json('results/flux_3.json')\n",
        "#files.download('results/flux_3.json')"
      ],
      "execution_count": 0,
      "outputs": []
    },
    {
      "cell_type": "markdown",
      "metadata": {
        "id": "gkBOJruWbzJ2",
        "colab_type": "text"
      },
      "source": [
        "Go to again to [Escher Maps](https://escher.github.io) and load the flux solution."
      ]
    },
    {
      "cell_type": "markdown",
      "metadata": {
        "id": "8XquhcDw14Ca",
        "colab_type": "text"
      },
      "source": [
        "# 4) omitted"
      ]
    },
    {
      "cell_type": "markdown",
      "metadata": {
        "id": "Bzb_opWo16Vb",
        "colab_type": "text"
      },
      "source": [
        "# 5) References"
      ]
    },
    {
      "cell_type": "markdown",
      "metadata": {
        "id": "Sx8nqQ931-Wz",
        "colab_type": "text"
      },
      "source": [
        "This material was compiled using https://cobrapy.readthedocs.io/en/latest/ and is influenced by the deNBI/IPK CompBiol Starter 2019 on Metabolic Modelling (Dr Blätke/Dr Szymanski).\n",
        "\n",
        " 10.1186/1752-0509-7-74"
      ]
    }
  ]
}